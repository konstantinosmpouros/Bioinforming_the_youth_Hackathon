{
 "cells": [
  {
   "cell_type": "markdown",
   "id": "a9a1db2a-b6f3-4ee1-ae75-3b053e98fb4c",
   "metadata": {
    "tags": []
   },
   "source": [
    "# Resistance plant gene prediction - Modeling\n",
    "---"
   ]
  },
  {
   "cell_type": "markdown",
   "id": "2779e934-ba52-4a1d-a227-beca998b5a14",
   "metadata": {
    "jp-MarkdownHeadingCollapsed": true
   },
   "source": [
    "## Libraries"
   ]
  },
  {
   "cell_type": "code",
   "execution_count": 41,
   "id": "bb35dcde-b188-43d6-b626-721109be04bd",
   "metadata": {},
   "outputs": [],
   "source": [
    "# Data Manipulation\n",
    "import pandas as pd\n",
    "import numpy as np\n",
    "\n",
    "# Visualization\n",
    "import matplotlib.pyplot as plt\n",
    "\n",
    "# Data preparation and scaling\n",
    "from sklearn.model_selection import train_test_split\n",
    "from tensorflow.keras.preprocessing.sequence import pad_sequences\n",
    "from sklearn.preprocessing import StandardScaler\n",
    "\n",
    "# Tokenization\n",
    "from tensorflow.keras.preprocessing.text import Tokenizer\n",
    "\n",
    "# Modeling library\n",
    "import tensorflow as tf\n",
    "from tensorflow.keras.models import Model\n",
    "\n",
    "# Modeling Layers\n",
    "from tensorflow.keras.layers import Input, LSTM, Dense\n",
    "from tensorflow.keras.layers import MultiHeadAttention, Embedding, GlobalAveragePooling1D, Dropout, LayerNormalization\n",
    "\n",
    "# Speed up the model's training\n",
    "from tensorflow.keras import mixed_precision\n",
    "\n",
    "\n",
    "# Helper functions and Layers\n",
    "import helper_functions as hf\n",
    "from Positional_encoding import PositionalEncoding"
   ]
  },
  {
   "cell_type": "markdown",
   "id": "767274f7-2e3d-4cac-b8f6-c36bb0f12bed",
   "metadata": {
    "jp-MarkdownHeadingCollapsed": true
   },
   "source": [
    "## Data loading"
   ]
  },
  {
   "cell_type": "code",
   "execution_count": 2,
   "id": "4d66050d-7bfe-4210-8793-13d9f393d3da",
   "metadata": {},
   "outputs": [],
   "source": [
    "proteins = pd.read_csv('Data/train.csv')"
   ]
  },
  {
   "cell_type": "code",
   "execution_count": 3,
   "id": "d46c074f-40d2-4430-a51c-ab1325618ad5",
   "metadata": {},
   "outputs": [
    {
     "data": {
      "text/html": [
       "<div>\n",
       "<style scoped>\n",
       "    .dataframe tbody tr th:only-of-type {\n",
       "        vertical-align: middle;\n",
       "    }\n",
       "\n",
       "    .dataframe tbody tr th {\n",
       "        vertical-align: top;\n",
       "    }\n",
       "\n",
       "    .dataframe thead th {\n",
       "        text-align: right;\n",
       "    }\n",
       "</style>\n",
       "<table border=\"1\" class=\"dataframe\">\n",
       "  <thead>\n",
       "    <tr style=\"text-align: right;\">\n",
       "      <th></th>\n",
       "      <th>ID</th>\n",
       "      <th>Sequence</th>\n",
       "      <th>Label</th>\n",
       "    </tr>\n",
       "  </thead>\n",
       "  <tbody>\n",
       "    <tr>\n",
       "      <th>0</th>\n",
       "      <td>0</td>\n",
       "      <td>MDSRMDQYEVMEQIGRGAFGAAILVNHKTEKKKYVLKKIRLARQTE...</td>\n",
       "      <td>0</td>\n",
       "    </tr>\n",
       "    <tr>\n",
       "      <th>1</th>\n",
       "      <td>4</td>\n",
       "      <td>MAPKAEKKPAEKKPAEEKAGEKAPAAGKKPKAEKRLPASKGEKGGE...</td>\n",
       "      <td>0</td>\n",
       "    </tr>\n",
       "    <tr>\n",
       "      <th>2</th>\n",
       "      <td>5</td>\n",
       "      <td>MLELHFEFIDLNQPKMYKFVVCLLTLSFLLLSGLSNTALARVHHES...</td>\n",
       "      <td>0</td>\n",
       "    </tr>\n",
       "    <tr>\n",
       "      <th>3</th>\n",
       "      <td>6</td>\n",
       "      <td>MAEPELVNGGVKENKLWKGVFAVSGIMSTLVIYGVLQEKIMRVPYG...</td>\n",
       "      <td>0</td>\n",
       "    </tr>\n",
       "    <tr>\n",
       "      <th>4</th>\n",
       "      <td>7</td>\n",
       "      <td>MTSCGCLVLEKVEDHGGEAAGRGRGRLAQGGGGGGGGCGSCAGEWR...</td>\n",
       "      <td>0</td>\n",
       "    </tr>\n",
       "  </tbody>\n",
       "</table>\n",
       "</div>"
      ],
      "text/plain": [
       "   ID                                           Sequence  Label\n",
       "0   0  MDSRMDQYEVMEQIGRGAFGAAILVNHKTEKKKYVLKKIRLARQTE...      0\n",
       "1   4  MAPKAEKKPAEKKPAEEKAGEKAPAAGKKPKAEKRLPASKGEKGGE...      0\n",
       "2   5  MLELHFEFIDLNQPKMYKFVVCLLTLSFLLLSGLSNTALARVHHES...      0\n",
       "3   6  MAEPELVNGGVKENKLWKGVFAVSGIMSTLVIYGVLQEKIMRVPYG...      0\n",
       "4   7  MTSCGCLVLEKVEDHGGEAAGRGRGRLAQGGGGGGGGCGSCAGEWR...      0"
      ]
     },
     "execution_count": 3,
     "metadata": {},
     "output_type": "execute_result"
    }
   ],
   "source": [
    "proteins.head()"
   ]
  },
  {
   "cell_type": "code",
   "execution_count": 4,
   "id": "505d47ea-abb7-4f88-af4c-b11099ec1d16",
   "metadata": {},
   "outputs": [
    {
     "name": "stdout",
     "output_type": "stream",
     "text": [
      "<class 'pandas.core.frame.DataFrame'>\n",
      "RangeIndex: 14161 entries, 0 to 14160\n",
      "Data columns (total 3 columns):\n",
      " #   Column    Non-Null Count  Dtype \n",
      "---  ------    --------------  ----- \n",
      " 0   ID        14161 non-null  int64 \n",
      " 1   Sequence  14161 non-null  object\n",
      " 2   Label     14161 non-null  int64 \n",
      "dtypes: int64(2), object(1)\n",
      "memory usage: 332.0+ KB\n"
     ]
    }
   ],
   "source": [
    "proteins.info()"
   ]
  },
  {
   "cell_type": "code",
   "execution_count": 5,
   "id": "f39f472a-3c39-431a-a6bf-1473790fb103",
   "metadata": {},
   "outputs": [
    {
     "data": {
      "text/plain": [
       "(0, 3)"
      ]
     },
     "execution_count": 5,
     "metadata": {},
     "output_type": "execute_result"
    }
   ],
   "source": [
    "proteins[proteins.duplicated()].shape"
   ]
  },
  {
   "cell_type": "code",
   "execution_count": 6,
   "id": "fe97c497-9a6a-4914-8dda-561e07afcbfa",
   "metadata": {},
   "outputs": [
    {
     "data": {
      "text/html": [
       "<div>\n",
       "<style scoped>\n",
       "    .dataframe tbody tr th:only-of-type {\n",
       "        vertical-align: middle;\n",
       "    }\n",
       "\n",
       "    .dataframe tbody tr th {\n",
       "        vertical-align: top;\n",
       "    }\n",
       "\n",
       "    .dataframe thead th {\n",
       "        text-align: right;\n",
       "    }\n",
       "</style>\n",
       "<table border=\"1\" class=\"dataframe\">\n",
       "  <thead>\n",
       "    <tr style=\"text-align: right;\">\n",
       "      <th></th>\n",
       "      <th>Label</th>\n",
       "    </tr>\n",
       "  </thead>\n",
       "  <tbody>\n",
       "    <tr>\n",
       "      <th>0</th>\n",
       "      <td>0</td>\n",
       "    </tr>\n",
       "    <tr>\n",
       "      <th>1</th>\n",
       "      <td>0</td>\n",
       "    </tr>\n",
       "    <tr>\n",
       "      <th>2</th>\n",
       "      <td>0</td>\n",
       "    </tr>\n",
       "    <tr>\n",
       "      <th>3</th>\n",
       "      <td>0</td>\n",
       "    </tr>\n",
       "    <tr>\n",
       "      <th>4</th>\n",
       "      <td>0</td>\n",
       "    </tr>\n",
       "  </tbody>\n",
       "</table>\n",
       "</div>"
      ],
      "text/plain": [
       "   Label\n",
       "0      0\n",
       "1      0\n",
       "2      0\n",
       "3      0\n",
       "4      0"
      ]
     },
     "execution_count": 6,
     "metadata": {},
     "output_type": "execute_result"
    }
   ],
   "source": [
    "labels = pd.DataFrame(proteins['Label'])\n",
    "labels.head()"
   ]
  },
  {
   "cell_type": "code",
   "execution_count": 7,
   "id": "1d1798ff-f4c2-4bcc-9a88-9430102ab24d",
   "metadata": {},
   "outputs": [
    {
     "data": {
      "text/plain": [
       "0    MDSRMDQYEVMEQIGRGAFGAAILVNHKTEKKKYVLKKIRLARQTE...\n",
       "1    MAPKAEKKPAEKKPAEEKAGEKAPAAGKKPKAEKRLPASKGEKGGE...\n",
       "2    MLELHFEFIDLNQPKMYKFVVCLLTLSFLLLSGLSNTALARVHHES...\n",
       "3    MAEPELVNGGVKENKLWKGVFAVSGIMSTLVIYGVLQEKIMRVPYG...\n",
       "4    MTSCGCLVLEKVEDHGGEAAGRGRGRLAQGGGGGGGGCGSCAGEWR...\n",
       "Name: Sequence, dtype: object"
      ]
     },
     "execution_count": 7,
     "metadata": {},
     "output_type": "execute_result"
    }
   ],
   "source": [
    "sequences = proteins['Sequence']\n",
    "sequences.head()"
   ]
  },
  {
   "cell_type": "markdown",
   "id": "d3aacaf4-d39c-4ffd-96c6-05e13643b6bf",
   "metadata": {
    "jp-MarkdownHeadingCollapsed": true
   },
   "source": [
    "## Data Preparation"
   ]
  },
  {
   "cell_type": "markdown",
   "id": "1a781ce0-0ebf-4d99-891a-2a658462ed16",
   "metadata": {
    "jp-MarkdownHeadingCollapsed": true
   },
   "source": [
    "### Tokenization"
   ]
  },
  {
   "cell_type": "markdown",
   "id": "a40cf217-2cfb-46af-9b8e-8ac7f7944541",
   "metadata": {
    "jp-MarkdownHeadingCollapsed": true
   },
   "source": [
    "#### Char level"
   ]
  },
  {
   "cell_type": "markdown",
   "id": "d958cd03-984d-4fbd-b433-b30c39f184e6",
   "metadata": {},
   "source": [
    "* Tokenize the sequences on char level"
   ]
  },
  {
   "cell_type": "code",
   "execution_count": 8,
   "id": "39226ab7-113d-4355-8a39-40f7a84faeee",
   "metadata": {},
   "outputs": [],
   "source": [
    "# Tokenize on char level\n",
    "tokenizer1 = Tokenizer(char_level=True)\n",
    "tokenizer1.fit_on_texts(sequences)\n",
    "sequences_1p = tokenizer1.texts_to_sequences(sequences)\n",
    "\n",
    "# Padd the sequences to match all the length of the biggest\n",
    "sequences_1p = pad_sequences(sequences_1p, padding='post')"
   ]
  },
  {
   "cell_type": "code",
   "execution_count": 9,
   "id": "78656f5e-60ba-4d93-9864-55f3b90bf139",
   "metadata": {},
   "outputs": [
    {
     "data": {
      "text/plain": [
       "array([[17,  9,  2, ...,  0,  0,  0],\n",
       "       [17,  3, 12, ...,  0,  0,  0],\n",
       "       [17,  1,  6, ...,  0,  0,  0],\n",
       "       ...,\n",
       "       [17, 16, 13, ...,  0,  0,  0],\n",
       "       [17,  3,  3, ...,  0,  0,  0],\n",
       "       [17,  4, 10, ...,  0,  0,  0]], dtype=int32)"
      ]
     },
     "execution_count": 9,
     "metadata": {},
     "output_type": "execute_result"
    }
   ],
   "source": [
    "sequences_1p"
   ]
  },
  {
   "cell_type": "markdown",
   "id": "9dfe5fdd-aae8-4acf-8992-7cdf03b0d5e7",
   "metadata": {},
   "source": [
    "* Max sequence length"
   ]
  },
  {
   "cell_type": "code",
   "execution_count": 10,
   "id": "66e2286d-80fa-4b97-b154-7c9d275e99ed",
   "metadata": {},
   "outputs": [
    {
     "data": {
      "text/plain": [
       "2028"
      ]
     },
     "execution_count": 10,
     "metadata": {},
     "output_type": "execute_result"
    }
   ],
   "source": [
    "len(sequences_1p[0])"
   ]
  },
  {
   "cell_type": "markdown",
   "id": "5506839d-5616-4ff9-8d71-eee754c29b1d",
   "metadata": {
    "jp-MarkdownHeadingCollapsed": true
   },
   "source": [
    "#### 2 Amino Pairs"
   ]
  },
  {
   "cell_type": "markdown",
   "id": "92fb9749-1237-4733-acc5-9c4b41bb5f85",
   "metadata": {},
   "source": [
    "* Split the sequences per 2 aminos"
   ]
  },
  {
   "cell_type": "code",
   "execution_count": 11,
   "id": "e37d2c4c-e24f-42c5-a598-4756251e26f9",
   "metadata": {},
   "outputs": [
    {
     "data": {
      "text/html": [
       "<div>\n",
       "<style scoped>\n",
       "    .dataframe tbody tr th:only-of-type {\n",
       "        vertical-align: middle;\n",
       "    }\n",
       "\n",
       "    .dataframe tbody tr th {\n",
       "        vertical-align: top;\n",
       "    }\n",
       "\n",
       "    .dataframe thead th {\n",
       "        text-align: right;\n",
       "    }\n",
       "</style>\n",
       "<table border=\"1\" class=\"dataframe\">\n",
       "  <thead>\n",
       "    <tr style=\"text-align: right;\">\n",
       "      <th></th>\n",
       "      <th>0</th>\n",
       "    </tr>\n",
       "  </thead>\n",
       "  <tbody>\n",
       "    <tr>\n",
       "      <th>0</th>\n",
       "      <td>MA</td>\n",
       "    </tr>\n",
       "    <tr>\n",
       "      <th>1</th>\n",
       "      <td>SA</td>\n",
       "    </tr>\n",
       "    <tr>\n",
       "      <th>2</th>\n",
       "      <td>EG</td>\n",
       "    </tr>\n",
       "    <tr>\n",
       "      <th>3</th>\n",
       "      <td>GG</td>\n",
       "    </tr>\n",
       "    <tr>\n",
       "      <th>4</th>\n",
       "      <td>DK</td>\n",
       "    </tr>\n",
       "    <tr>\n",
       "      <th>...</th>\n",
       "      <td>...</td>\n",
       "    </tr>\n",
       "    <tr>\n",
       "      <th>113</th>\n",
       "      <td>GC</td>\n",
       "    </tr>\n",
       "    <tr>\n",
       "      <th>114</th>\n",
       "      <td>PV</td>\n",
       "    </tr>\n",
       "    <tr>\n",
       "      <th>115</th>\n",
       "      <td>MR</td>\n",
       "    </tr>\n",
       "    <tr>\n",
       "      <th>116</th>\n",
       "      <td>GA</td>\n",
       "    </tr>\n",
       "    <tr>\n",
       "      <th>117</th>\n",
       "      <td>D</td>\n",
       "    </tr>\n",
       "  </tbody>\n",
       "</table>\n",
       "<p>118 rows × 1 columns</p>\n",
       "</div>"
      ],
      "text/plain": [
       "      0\n",
       "0    MA\n",
       "1    SA\n",
       "2    EG\n",
       "3    GG\n",
       "4    DK\n",
       "..   ..\n",
       "113  GC\n",
       "114  PV\n",
       "115  MR\n",
       "116  GA\n",
       "117   D\n",
       "\n",
       "[118 rows x 1 columns]"
      ]
     },
     "execution_count": 11,
     "metadata": {},
     "output_type": "execute_result"
    }
   ],
   "source": [
    "dipeptide_sequences = hf.split_sequences(sequences, step=2)\n",
    "pd.DataFrame(dipeptide_sequences[500])"
   ]
  },
  {
   "cell_type": "code",
   "execution_count": 12,
   "id": "d2e815c7-81bc-4bd2-99d2-eb02bd0ada64",
   "metadata": {},
   "outputs": [
    {
     "data": {
      "text/plain": [
       "'MASAEGGGDKYRSFLHGDGEKKTVWRHGAPPNYDLVNKLFEEERTKEWAEGSVEEKVQRLLKTWEMEMVHKVRPEDQKSVNLKNYSASTNGLKPLTREEVMAMGGYNAFLATTLPPEHRIYDPEAESVESATSTFLTAFPRGFAIEVLDVYSSPSAPRIAFKFRHWGYMEGPFKGHPPHGGRVEFFGVCVFHVDEDTKVEKAEFFYERGNFLASFLTAPAASASASGCPVMRGAD'"
      ]
     },
     "execution_count": 12,
     "metadata": {},
     "output_type": "execute_result"
    }
   ],
   "source": [
    "sequences[500]"
   ]
  },
  {
   "cell_type": "code",
   "execution_count": 13,
   "id": "134cb9f0-797f-4925-995c-a87fc428d910",
   "metadata": {},
   "outputs": [],
   "source": [
    "tokenizer2 = Tokenizer(char_level=False)\n",
    "tokenizer2.fit_on_texts(dipeptide_sequences)\n",
    "sequences_2p = tokenizer2.texts_to_sequences(dipeptide_sequences)\n",
    "sequences_2p = pad_sequences(sequences_2p, padding='post')"
   ]
  },
  {
   "cell_type": "code",
   "execution_count": 14,
   "id": "319ff0d8-3ac1-474b-9bb4-5d51216bf7b8",
   "metadata": {},
   "outputs": [
    {
     "data": {
      "text/plain": [
       "array([[257,  54, 257, ...,   0,   0,   0],\n",
       "       [132, 151,  55, ...,   0,   0,   0],\n",
       "       [196,  19, 323, ...,   0,   0,   0],\n",
       "       ...,\n",
       "       [370, 182, 250, ...,   0,   0,   0],\n",
       "       [132,  94, 252, ...,   0,   0,   0],\n",
       "       [231, 318,  75, ...,   0,   0,   0]], dtype=int32)"
      ]
     },
     "execution_count": 14,
     "metadata": {},
     "output_type": "execute_result"
    }
   ],
   "source": [
    "sequences_2p"
   ]
  },
  {
   "cell_type": "markdown",
   "id": "228d1490-10e0-4630-8e45-025487f7cc3a",
   "metadata": {},
   "source": [
    "* Max length"
   ]
  },
  {
   "cell_type": "code",
   "execution_count": 15,
   "id": "0d80740f-6874-4a26-92ef-3872d4e364b2",
   "metadata": {},
   "outputs": [
    {
     "data": {
      "text/plain": [
       "1014"
      ]
     },
     "execution_count": 15,
     "metadata": {},
     "output_type": "execute_result"
    }
   ],
   "source": [
    "len(sequences_2p[0])"
   ]
  },
  {
   "cell_type": "markdown",
   "id": "0cc182b0-6d51-4498-b62f-68c8cc88d0aa",
   "metadata": {
    "jp-MarkdownHeadingCollapsed": true
   },
   "source": [
    "#### 3 Amino Pairs"
   ]
  },
  {
   "cell_type": "markdown",
   "id": "365385b8-42fb-4ff5-8f03-ff5ebf036df1",
   "metadata": {},
   "source": [
    "* Split the sequences per 3 aminos"
   ]
  },
  {
   "cell_type": "code",
   "execution_count": 16,
   "id": "470a0172-168b-4659-a0cb-f1b94a390539",
   "metadata": {},
   "outputs": [
    {
     "data": {
      "text/html": [
       "<div>\n",
       "<style scoped>\n",
       "    .dataframe tbody tr th:only-of-type {\n",
       "        vertical-align: middle;\n",
       "    }\n",
       "\n",
       "    .dataframe tbody tr th {\n",
       "        vertical-align: top;\n",
       "    }\n",
       "\n",
       "    .dataframe thead th {\n",
       "        text-align: right;\n",
       "    }\n",
       "</style>\n",
       "<table border=\"1\" class=\"dataframe\">\n",
       "  <thead>\n",
       "    <tr style=\"text-align: right;\">\n",
       "      <th></th>\n",
       "      <th>0</th>\n",
       "    </tr>\n",
       "  </thead>\n",
       "  <tbody>\n",
       "    <tr>\n",
       "      <th>0</th>\n",
       "      <td>MAS</td>\n",
       "    </tr>\n",
       "    <tr>\n",
       "      <th>1</th>\n",
       "      <td>AEG</td>\n",
       "    </tr>\n",
       "    <tr>\n",
       "      <th>2</th>\n",
       "      <td>GGD</td>\n",
       "    </tr>\n",
       "    <tr>\n",
       "      <th>3</th>\n",
       "      <td>KYR</td>\n",
       "    </tr>\n",
       "    <tr>\n",
       "      <th>4</th>\n",
       "      <td>SFL</td>\n",
       "    </tr>\n",
       "    <tr>\n",
       "      <th>...</th>\n",
       "      <td>...</td>\n",
       "    </tr>\n",
       "    <tr>\n",
       "      <th>74</th>\n",
       "      <td>ASA</td>\n",
       "    </tr>\n",
       "    <tr>\n",
       "      <th>75</th>\n",
       "      <td>SGC</td>\n",
       "    </tr>\n",
       "    <tr>\n",
       "      <th>76</th>\n",
       "      <td>PVM</td>\n",
       "    </tr>\n",
       "    <tr>\n",
       "      <th>77</th>\n",
       "      <td>RGA</td>\n",
       "    </tr>\n",
       "    <tr>\n",
       "      <th>78</th>\n",
       "      <td>D</td>\n",
       "    </tr>\n",
       "  </tbody>\n",
       "</table>\n",
       "<p>79 rows × 1 columns</p>\n",
       "</div>"
      ],
      "text/plain": [
       "      0\n",
       "0   MAS\n",
       "1   AEG\n",
       "2   GGD\n",
       "3   KYR\n",
       "4   SFL\n",
       "..  ...\n",
       "74  ASA\n",
       "75  SGC\n",
       "76  PVM\n",
       "77  RGA\n",
       "78    D\n",
       "\n",
       "[79 rows x 1 columns]"
      ]
     },
     "execution_count": 16,
     "metadata": {},
     "output_type": "execute_result"
    }
   ],
   "source": [
    "tripeptide_sequences = hf.split_sequences(sequences, step=3)\n",
    "pd.DataFrame(tripeptide_sequences[500])"
   ]
  },
  {
   "cell_type": "code",
   "execution_count": 17,
   "id": "50931f1b-07a9-4d25-aaa1-3f025e960f55",
   "metadata": {},
   "outputs": [
    {
     "data": {
      "text/plain": [
       "'MASAEGGGDKYRSFLHGDGEKKTVWRHGAPPNYDLVNKLFEEERTKEWAEGSVEEKVQRLLKTWEMEMVHKVRPEDQKSVNLKNYSASTNGLKPLTREEVMAMGGYNAFLATTLPPEHRIYDPEAESVESATSTFLTAFPRGFAIEVLDVYSSPSAPRIAFKFRHWGYMEGPFKGHPPHGGRVEFFGVCVFHVDEDTKVEKAEFFYERGNFLASFLTAPAASASASGCPVMRGAD'"
      ]
     },
     "execution_count": 17,
     "metadata": {},
     "output_type": "execute_result"
    }
   ],
   "source": [
    "sequences[500]"
   ]
  },
  {
   "cell_type": "code",
   "execution_count": 18,
   "id": "dfc33667-8ba4-45a2-a055-9181954a184a",
   "metadata": {},
   "outputs": [],
   "source": [
    "tokenizer3 = Tokenizer(char_level=False)\n",
    "tokenizer3.fit_on_texts(tripeptide_sequences)\n",
    "sequences_3p = tokenizer3.texts_to_sequences(tripeptide_sequences)\n",
    "sequences_3p = pad_sequences(sequences_3p, padding='post')"
   ]
  },
  {
   "cell_type": "code",
   "execution_count": 19,
   "id": "2d62a856-5de7-4ce3-b704-ae6b6c1fc29e",
   "metadata": {},
   "outputs": [
    {
     "data": {
      "text/plain": [
       "array([[2182, 5456, 5868, ...,    0,    0,    0],\n",
       "       [1956,  766, 1178, ...,    0,    0,    0],\n",
       "       [1946, 3717, 2905, ...,    0,    0,    0],\n",
       "       ...,\n",
       "       [6744, 5076, 3048, ...,    0,    0,    0],\n",
       "       [ 233, 4150, 2315, ...,    0,    0,    0],\n",
       "       [3401, 4360, 1172, ...,    0,    0,    0]], dtype=int32)"
      ]
     },
     "execution_count": 19,
     "metadata": {},
     "output_type": "execute_result"
    }
   ],
   "source": [
    "sequences_3p"
   ]
  },
  {
   "cell_type": "markdown",
   "id": "1fd24b78-5aa9-4db5-b118-6e58f2522ae6",
   "metadata": {},
   "source": [
    "* Max length"
   ]
  },
  {
   "cell_type": "code",
   "execution_count": 20,
   "id": "220dc545-fded-4d24-9380-d3f42e51b8c0",
   "metadata": {},
   "outputs": [
    {
     "data": {
      "text/plain": [
       "676"
      ]
     },
     "execution_count": 20,
     "metadata": {},
     "output_type": "execute_result"
    }
   ],
   "source": [
    "len(sequences_3p[0])"
   ]
  },
  {
   "cell_type": "markdown",
   "id": "77d1762a-ec47-46ae-8e20-4d6410a1ce08",
   "metadata": {
    "jp-MarkdownHeadingCollapsed": true
   },
   "source": [
    "### Train Test Split"
   ]
  },
  {
   "cell_type": "markdown",
   "id": "99a0414f-64f8-470b-a510-6cffb06f1593",
   "metadata": {
    "jp-MarkdownHeadingCollapsed": true
   },
   "source": [
    "#### Char level split"
   ]
  },
  {
   "cell_type": "code",
   "execution_count": 21,
   "id": "9d914135-a9c1-4a84-849f-10a56e119338",
   "metadata": {},
   "outputs": [],
   "source": [
    "sequences_1p_train, sequences_1p_test, labels_1p_train, labels_1p_test = train_test_split(sequences_1p, labels, test_size=0.2, random_state=33)"
   ]
  },
  {
   "cell_type": "code",
   "execution_count": 22,
   "id": "62168ab4-24bd-4ca5-8d79-f03cc81b8f1b",
   "metadata": {},
   "outputs": [
    {
     "name": "stdout",
     "output_type": "stream",
     "text": [
      "Training shapes:  (11328, 2028) (11328, 1)\n",
      "Test shapes:  (2833, 2028) (2833, 1)\n"
     ]
    }
   ],
   "source": [
    "print('Training shapes: ', sequences_1p_train.shape, labels_1p_train.shape)\n",
    "print('Test shapes: ', sequences_1p_test.shape, labels_1p_test.shape)"
   ]
  },
  {
   "cell_type": "code",
   "execution_count": 23,
   "id": "3426c04a-856b-4e7b-a1ad-46e42553590c",
   "metadata": {},
   "outputs": [],
   "source": [
    "scaler = StandardScaler()\n",
    "sequences_1p_train_scaled = scaler.fit_transform(sequences_1p_train)\n",
    "sequences_1p_test_scaled = scaler.fit_transform(sequences_1p_test)"
   ]
  },
  {
   "cell_type": "code",
   "execution_count": 24,
   "id": "9993d30c-0800-49c8-aa3b-46ecf0821078",
   "metadata": {},
   "outputs": [],
   "source": [
    "# pd.DataFrame(sequences_1p_train).to_csv('Data/Prepared_Data/1_Amino_Pair/train.csv')\n",
    "# pd.DataFrame(sequences_1p_test).to_csv('Data/Prepared_Data/1_Amino_Pair/test.csv')\n",
    "\n",
    "# pd.DataFrame(labels_1p_train).to_csv('Data/Prepared_Data/1_Amino_Pair/labels_train.csv')\n",
    "# pd.DataFrame(labels_1p_test).to_csv('Data/Prepared_Data/1_Amino_Pair/labels_test.csv')"
   ]
  },
  {
   "cell_type": "code",
   "execution_count": 25,
   "id": "f9ea6d07-e544-4115-bef8-4971e6928db7",
   "metadata": {},
   "outputs": [],
   "source": [
    "# pd.DataFrame(sequences_1p_train_scaled).to_csv('Data/Prepared_Data/1_Amino_Pair/train_scaled.csv')\n",
    "# pd.DataFrame(sequences_1p_test_scaled).to_csv('Data/Prepared_Data/1_Amino_Pair/test_scaled.csv')"
   ]
  },
  {
   "cell_type": "markdown",
   "id": "15c0bc64-d0b1-4323-935b-a46ab2d1b175",
   "metadata": {
    "jp-MarkdownHeadingCollapsed": true
   },
   "source": [
    "#### 2 Aminos split"
   ]
  },
  {
   "cell_type": "code",
   "execution_count": 26,
   "id": "3dd37081-10ae-4abd-a9e2-4fb69f707283",
   "metadata": {},
   "outputs": [],
   "source": [
    "sequences_2p_train, sequences_2p_test, labels_2p_train, labels_2p_test = train_test_split(sequences_2p, labels, test_size=0.2, random_state=33)"
   ]
  },
  {
   "cell_type": "code",
   "execution_count": 27,
   "id": "110d2796-bd0e-45ed-bc25-9169d1a26d97",
   "metadata": {},
   "outputs": [
    {
     "name": "stdout",
     "output_type": "stream",
     "text": [
      "Training shapes:  (11328, 1014) (11328, 1)\n",
      "Test shapes:  (2833, 1014) (2833, 1)\n"
     ]
    }
   ],
   "source": [
    "print('Training shapes: ', sequences_2p_train.shape, labels_2p_train.shape)\n",
    "print('Test shapes: ', sequences_2p_test.shape, labels_2p_test.shape)"
   ]
  },
  {
   "cell_type": "code",
   "execution_count": 28,
   "id": "70cf5466-b26f-4820-94f6-53fd7c591a14",
   "metadata": {},
   "outputs": [],
   "source": [
    "sequences_2p_train_scaled = scaler.fit_transform(sequences_2p_train)\n",
    "sequences_2p_test_scaled = scaler.fit_transform(sequences_2p_test)"
   ]
  },
  {
   "cell_type": "code",
   "execution_count": 29,
   "id": "64627940-9a7e-4204-baad-7bcfd08a227c",
   "metadata": {},
   "outputs": [],
   "source": [
    "# pd.DataFrame(sequences_2p_train).to_csv('Data/Prepared_Data/2_Amino_Pair/train.csv')\n",
    "# pd.DataFrame(sequences_2p_test).to_csv('Data/Prepared_Data/2_Amino_Pair/test.csv')\n",
    "\n",
    "# pd.DataFrame(labels_2p_train).to_csv('Data/Prepared_Data/2_Amino_Pair/labels_train.csv')\n",
    "# pd.DataFrame(labels_2p_test).to_csv('Data/Prepared_Data/2_Amino_Pair/labels_test.csv')"
   ]
  },
  {
   "cell_type": "code",
   "execution_count": 30,
   "id": "d7ab28d5-5e10-47dd-ac71-6340686b0279",
   "metadata": {},
   "outputs": [],
   "source": [
    "# pd.DataFrame(sequences_2p_train_scaled).to_csv('Data/Prepared_Data/2_Amino_Pair/train_scaled.csv')\n",
    "# pd.DataFrame(sequences_2p_test_scaled).to_csv('Data/Prepared_Data/2_Amino_Pair/test_scaled.csv')"
   ]
  },
  {
   "cell_type": "markdown",
   "id": "c37bf10b-200b-40ff-9dd8-79452615c0dd",
   "metadata": {
    "jp-MarkdownHeadingCollapsed": true
   },
   "source": [
    "#### 3 Aminos split"
   ]
  },
  {
   "cell_type": "code",
   "execution_count": 31,
   "id": "80ee358b-a3b6-4223-8d1b-7513882e51c6",
   "metadata": {},
   "outputs": [],
   "source": [
    "sequences_3p_train, sequences_3p_test, labels_3p_train, labels_3p_test = train_test_split(sequences_3p, labels, test_size=0.2, random_state=33)"
   ]
  },
  {
   "cell_type": "code",
   "execution_count": 32,
   "id": "3a459a86-f442-4ec7-b674-b3cd7447a23c",
   "metadata": {},
   "outputs": [
    {
     "name": "stdout",
     "output_type": "stream",
     "text": [
      "Training shapes:  (11328, 676) (11328, 1)\n",
      "Test shapes:  (2833, 676) (2833, 1)\n"
     ]
    }
   ],
   "source": [
    "print('Training shapes: ', sequences_3p_train.shape, labels_3p_train.shape)\n",
    "print('Test shapes: ', sequences_3p_test.shape, labels_3p_test.shape)"
   ]
  },
  {
   "cell_type": "code",
   "execution_count": 33,
   "id": "9c50c226-9488-4035-97d8-aea67a0a60d7",
   "metadata": {},
   "outputs": [],
   "source": [
    "sequences_3p_train_scaled = scaler.fit_transform(sequences_3p_train)\n",
    "sequences_3p_test_scaled = scaler.fit_transform(sequences_3p_test)"
   ]
  },
  {
   "cell_type": "code",
   "execution_count": 34,
   "id": "8757fc43-dd27-4381-9ccb-8c6d929910ff",
   "metadata": {},
   "outputs": [],
   "source": [
    "# pd.DataFrame(sequences_3p_train).to_csv('Data/Prepared_Data/3_Amino_Pair/train.csv')\n",
    "# pd.DataFrame(sequences_3p_test).to_csv('Data/Prepared_Data/3_Amino_Pair/test.csv')\n",
    "\n",
    "# pd.DataFrame(labels_3p_train).to_csv('Data/Prepared_Data/3_Amino_Pair/labels_train.csv')\n",
    "# pd.DataFrame(labels_3p_test).to_csv('Data/Prepared_Data/3_Amino_Pair/labels_test.csv')"
   ]
  },
  {
   "cell_type": "code",
   "execution_count": 35,
   "id": "7c2f240e-c33d-4176-a742-7e0b08691a18",
   "metadata": {},
   "outputs": [],
   "source": [
    "# pd.DataFrame(sequences_3p_train_scaled).to_csv('Data/Prepared_Data/3_Amino_Pair/train_scaled.csv')\n",
    "# pd.DataFrame(sequences_3p_test_scaled).to_csv('Data/Prepared_Data/3_Amino_Pair/test_scaled.csv')"
   ]
  },
  {
   "cell_type": "markdown",
   "id": "17190438-a9fa-4658-aae3-232015b3f75b",
   "metadata": {
    "jp-MarkdownHeadingCollapsed": true
   },
   "source": [
    "## Mixed precision"
   ]
  },
  {
   "cell_type": "markdown",
   "id": "479ea56d-351d-4f0d-bb8c-660dea6f4175",
   "metadata": {},
   "source": [
    "* Set up mix precision before modeling to speed up the training"
   ]
  },
  {
   "cell_type": "code",
   "execution_count": 36,
   "id": "5cc913d4-8c5c-46e9-a887-facf73ef8732",
   "metadata": {},
   "outputs": [
    {
     "name": "stdout",
     "output_type": "stream",
     "text": [
      "GPU 0: NVIDIA GeForce RTX 3060 (UUID: GPU-ab9b9fbd-4e42-e44a-c243-d1a9ea6686fe)\n"
     ]
    }
   ],
   "source": [
    "!nvidia-smi -L"
   ]
  },
  {
   "cell_type": "code",
   "execution_count": 37,
   "id": "19a0691d-7c8d-4368-add0-260a8dd35281",
   "metadata": {},
   "outputs": [
    {
     "name": "stderr",
     "output_type": "stream",
     "text": [
      "2024-05-15 18:47:49.275778: I external/local_xla/xla/stream_executor/cuda/cuda_executor.cc:887] could not open file to read NUMA node: /sys/bus/pci/devices/0000:01:00.0/numa_node\n",
      "Your kernel may have been built without NUMA support.\n",
      "2024-05-15 18:47:49.287755: I external/local_xla/xla/stream_executor/cuda/cuda_executor.cc:887] could not open file to read NUMA node: /sys/bus/pci/devices/0000:01:00.0/numa_node\n",
      "Your kernel may have been built without NUMA support.\n",
      "2024-05-15 18:47:49.287792: I external/local_xla/xla/stream_executor/cuda/cuda_executor.cc:887] could not open file to read NUMA node: /sys/bus/pci/devices/0000:01:00.0/numa_node\n",
      "Your kernel may have been built without NUMA support.\n"
     ]
    },
    {
     "data": {
      "text/plain": [
       "[PhysicalDevice(name='/physical_device:CPU:0', device_type='CPU'),\n",
       " PhysicalDevice(name='/physical_device:GPU:0', device_type='GPU')]"
      ]
     },
     "execution_count": 37,
     "metadata": {},
     "output_type": "execute_result"
    }
   ],
   "source": [
    "tf.config.list_physical_devices()"
   ]
  },
  {
   "cell_type": "code",
   "execution_count": 38,
   "id": "55159971-0017-4b1a-b58c-38be3b7e2836",
   "metadata": {},
   "outputs": [
    {
     "name": "stdout",
     "output_type": "stream",
     "text": [
      "INFO:tensorflow:Mixed precision compatibility check (mixed_float16): OK\n",
      "Your GPU will likely run quickly with dtype policy mixed_float16 as it has compute capability of at least 7.0. Your GPU: NVIDIA GeForce RTX 3060, compute capability 8.6\n"
     ]
    },
    {
     "name": "stderr",
     "output_type": "stream",
     "text": [
      "2024-05-15 18:47:49.296011: I external/local_xla/xla/stream_executor/cuda/cuda_executor.cc:887] could not open file to read NUMA node: /sys/bus/pci/devices/0000:01:00.0/numa_node\n",
      "Your kernel may have been built without NUMA support.\n"
     ]
    }
   ],
   "source": [
    "mixed_precision.set_global_policy(policy='mixed_float16')"
   ]
  },
  {
   "cell_type": "code",
   "execution_count": 39,
   "id": "4672af9d-8b3d-43e0-9920-ba046b34c6bc",
   "metadata": {},
   "outputs": [
    {
     "data": {
      "text/plain": [
       "<Policy \"mixed_float16\">"
      ]
     },
     "execution_count": 39,
     "metadata": {},
     "output_type": "execute_result"
    }
   ],
   "source": [
    "mixed_precision.global_policy()"
   ]
  },
  {
   "cell_type": "markdown",
   "id": "b79d2cf4-dd49-4d5b-9855-315d65804971",
   "metadata": {},
   "source": [
    "## Modeling (Char level)"
   ]
  },
  {
   "cell_type": "code",
   "execution_count": 40,
   "id": "3de01777-fb68-4281-aadd-cfa6f4e39dc2",
   "metadata": {},
   "outputs": [],
   "source": [
    "sequence_len = sequences_1p_train.shape[1]\n",
    "voc_size = len(tokenizer1.word_index)\n",
    "embedding_dim = 400"
   ]
  },
  {
   "cell_type": "markdown",
   "id": "397d8a1f-6d67-40da-ba56-d3907d041261",
   "metadata": {
    "jp-MarkdownHeadingCollapsed": true
   },
   "source": [
    "### LSTM"
   ]
  },
  {
   "cell_type": "code",
   "execution_count": 45,
   "id": "0bb09984-a793-4346-82a7-cfcdb3abade5",
   "metadata": {
    "scrolled": true
   },
   "outputs": [],
   "source": [
    "inputs = Input(shape=(sequence_len), name='Input')\n",
    "embeddings = Embedding(input_dim=voc_size, output_dim=embedding_dim, input_length=sequence_len, name='Embeddings')(inputs)\n",
    "\n",
    "lstms1 = LSTM(20, name='LSTM_layer_1', return_sequences=True)(embeddings)\n",
    "x = Dropout(0.1)(lstms1)\n",
    "lstms2 = LSTM(20, name='LSTM_layer_2', return_sequences=True)(x)\n",
    "x = Dropout(0.1)(lstms1)\n",
    "lstms3 = LSTM(20, name='LSTM_layer_3')(x)\n",
    "\n",
    "dense1 = Dense(10, activation='relu', name='Dense_1')(lstms3)\n",
    "dense2 = Dense(5, activation='relu', name='Dense_2')(dense1)\n",
    "\n",
    "outputs = Dense(1, activation=tf.keras.activations.hard_sigmoid, name='Output')(dense2)"
   ]
  },
  {
   "cell_type": "code",
   "execution_count": 46,
   "id": "0326a394-a7fc-4236-9d70-ca66a14dfdcf",
   "metadata": {},
   "outputs": [
    {
     "name": "stdout",
     "output_type": "stream",
     "text": [
      "Model: \"model_1\"\n",
      "_________________________________________________________________\n",
      " Layer (type)                Output Shape              Param #   \n",
      "=================================================================\n",
      " Input (InputLayer)          [(None, 2028)]            0         \n",
      "                                                                 \n",
      " Embeddings (Embedding)      (None, 2028, 400)         9200      \n",
      "                                                                 \n",
      " LSTM_layer_1 (LSTM)         (None, 2028, 20)          33680     \n",
      "                                                                 \n",
      " dropout_1 (Dropout)         (None, 2028, 20)          0         \n",
      "                                                                 \n",
      " LSTM_layer_3 (LSTM)         (None, 20)                3280      \n",
      "                                                                 \n",
      " Dense_1 (Dense)             (None, 10)                210       \n",
      "                                                                 \n",
      " Dense_2 (Dense)             (None, 5)                 55        \n",
      "                                                                 \n",
      " Output (Dense)              (None, 1)                 6         \n",
      "                                                                 \n",
      "=================================================================\n",
      "Total params: 46431 (181.37 KB)\n",
      "Trainable params: 46431 (181.37 KB)\n",
      "Non-trainable params: 0 (0.00 Byte)\n",
      "_________________________________________________________________\n"
     ]
    }
   ],
   "source": [
    "model_1 = Model(inputs=inputs, outputs=outputs)\n",
    "model_1.summary()"
   ]
  },
  {
   "cell_type": "code",
   "execution_count": 47,
   "id": "77297967-350d-4146-84a1-7c91af8cde74",
   "metadata": {},
   "outputs": [],
   "source": [
    "model_1.compile(optimizer=tf.keras.optimizers.Adamax(), loss=tf.keras.losses.binary_crossentropy, metrics=['accuracy'])"
   ]
  },
  {
   "cell_type": "code",
   "execution_count": 48,
   "id": "455820c4-975f-4bdf-8fd7-3a02b4f7efbd",
   "metadata": {},
   "outputs": [
    {
     "name": "stdout",
     "output_type": "stream",
     "text": [
      "Epoch 1/2\n",
      "454/454 [==============================] - 81s 174ms/step - loss: 0.3286 - accuracy: 0.9098\n",
      "Epoch 2/2\n",
      "454/454 [==============================] - 75s 164ms/step - loss: 0.3041 - accuracy: 0.9098\n"
     ]
    }
   ],
   "source": [
    "history = model_1.fit(sequences_1p_train, labels_1p_train, epochs=2, batch_size=25)"
   ]
  },
  {
   "cell_type": "code",
   "execution_count": 49,
   "id": "cdfbfe9e-19fd-44d7-ac5d-b37d511837d9",
   "metadata": {},
   "outputs": [
    {
     "name": "stdout",
     "output_type": "stream",
     "text": [
      "89/89 [==============================] - 9s 93ms/step\n"
     ]
    }
   ],
   "source": [
    "predictions = model_1.predict(sequences_1p_test)"
   ]
  },
  {
   "cell_type": "code",
   "execution_count": 50,
   "id": "0ce9d1fd-32a7-481d-9c48-8ca806abc172",
   "metadata": {},
   "outputs": [
    {
     "name": "stdout",
     "output_type": "stream",
     "text": [
      "Accuracy:  0.9110483586304271\n",
      "Loss:  0.3\n"
     ]
    }
   ],
   "source": [
    "predictions = hf.model_accuracy(labels_1p_test, predictions)"
   ]
  },
  {
   "cell_type": "code",
   "execution_count": 51,
   "id": "8b23c5d7-34dc-439c-9fad-b4f86478d7ea",
   "metadata": {},
   "outputs": [
    {
     "name": "stdout",
     "output_type": "stream",
     "text": [
      "              precision    recall  f1-score   support\n",
      "\n",
      "    Negative       0.91      1.00      0.95      2581\n",
      "    Positive       0.00      0.00      0.00       252\n",
      "\n",
      "    accuracy                           0.91      2833\n",
      "   macro avg       0.46      0.50      0.48      2833\n",
      "weighted avg       0.83      0.91      0.87      2833\n",
      "\n"
     ]
    }
   ],
   "source": [
    "hf.class_report(labels_1p_test, predictions)"
   ]
  },
  {
   "cell_type": "code",
   "execution_count": 52,
   "id": "ee96fc28-454a-4bdc-91b2-30b106aa86e7",
   "metadata": {},
   "outputs": [
    {
     "data": {
      "image/png": "[encoded data removed]",
      "text/plain": [
       "<Figure size 640x480 with 2 Axes>"
      ]
     },
     "metadata": {},
     "output_type": "display_data"
    }
   ],
   "source": [
    "hf.conf_matrix(labels_1p_test, predictions, '1_pair/1p_lstm_baseline_cm')"
   ]
  },
  {
   "cell_type": "code",
   "execution_count": 53,
   "id": "11eb9761-1832-4b46-b4e1-a26761f3b8eb",
   "metadata": {},
   "outputs": [
    {
     "data": {
      "image/png": "[encoded data removed]",
      "text/plain": [
       "<Figure size 640x480 with 1 Axes>"
      ]
     },
     "metadata": {},
     "output_type": "display_data"
    }
   ],
   "source": [
    "hf.roc_auc_curve(labels_1p_test, predictions, '1_pair/1p_lstm_baseline_roc_auc')"
   ]
  },
  {
   "cell_type": "markdown",
   "id": "01f54a51-30fd-4845-a7da-bd918743712c",
   "metadata": {},
   "source": [
    "### Transformers"
   ]
  },
  {
   "cell_type": "code",
   "execution_count": 42,
   "id": "d69a1895-9e98-48b2-a0ff-f639a7b2ca57",
   "metadata": {},
   "outputs": [
    {
     "name": "stderr",
     "output_type": "stream",
     "text": [
      "2024-05-15 18:48:08.571327: I external/local_xla/xla/stream_executor/cuda/cuda_executor.cc:887] could not open file to read NUMA node: /sys/bus/pci/devices/0000:01:00.0/numa_node\n",
      "Your kernel may have been built without NUMA support.\n",
      "2024-05-15 18:48:08.571393: I external/local_xla/xla/stream_executor/cuda/cuda_executor.cc:887] could not open file to read NUMA node: /sys/bus/pci/devices/0000:01:00.0/numa_node\n",
      "Your kernel may have been built without NUMA support.\n",
      "2024-05-15 18:48:08.571420: I external/local_xla/xla/stream_executor/cuda/cuda_executor.cc:887] could not open file to read NUMA node: /sys/bus/pci/devices/0000:01:00.0/numa_node\n",
      "Your kernel may have been built without NUMA support.\n",
      "2024-05-15 18:48:08.685197: I external/local_xla/xla/stream_executor/cuda/cuda_executor.cc:887] could not open file to read NUMA node: /sys/bus/pci/devices/0000:01:00.0/numa_node\n",
      "Your kernel may have been built without NUMA support.\n",
      "2024-05-15 18:48:08.685247: I external/local_xla/xla/stream_executor/cuda/cuda_executor.cc:887] could not open file to read NUMA node: /sys/bus/pci/devices/0000:01:00.0/numa_node\n",
      "Your kernel may have been built without NUMA support.\n",
      "2024-05-15 18:48:08.685253: I tensorflow/core/common_runtime/gpu/gpu_device.cc:2022] Could not identify NUMA node of platform GPU id 0, defaulting to 0.  Your kernel may not have been built with NUMA support.\n",
      "2024-05-15 18:48:08.685281: I external/local_xla/xla/stream_executor/cuda/cuda_executor.cc:887] could not open file to read NUMA node: /sys/bus/pci/devices/0000:01:00.0/numa_node\n",
      "Your kernel may have been built without NUMA support.\n",
      "2024-05-15 18:48:08.685294: I tensorflow/core/common_runtime/gpu/gpu_device.cc:1929] Created device /job:localhost/replica:0/task:0/device:GPU:0 with 9706 MB memory:  -> device: 0, name: NVIDIA GeForce RTX 3060, pci bus id: 0000:01:00.0, compute capability: 8.6\n"
     ]
    }
   ],
   "source": [
    "input_layer = Input(shape=(sequence_len), dtype=tf.float32, name='Input')\n",
    "\n",
    "x = Embedding(input_dim=voc_size, output_dim=embedding_dim, name='Embeddings')(input_layer)\n",
    "\n",
    "x = PositionalEncoding(position=sequence_len, d_model=embedding_dim)(x)\n",
    "\n",
    "attention = MultiHeadAttention(num_heads=6, key_dim=embedding_dim, name='Attention1')(x, x)\n",
    "attention = tf.cast(attention, dtype=tf.float32)  \n",
    "\n",
    "x = LayerNormalization(epsilon=1e-6, name='LayerNorm1')(x + attention)\n",
    "\n",
    "dense = Dense(embedding_dim, activation='relu', name='Dense1')(x)\n",
    "dense = Dense(embedding_dim, activation='relu', name='Dense2')(dense)\n",
    "\n",
    "x = LayerNormalization(epsilon=1e-6, name='LayerNorm2')(x + dense)\n",
    "x = GlobalAveragePooling1D(name='GAPooling1D')(x)\n",
    "x = Dropout(0.1, name='Dropout')(x)\n",
    "\n",
    "outputs_layer = Dense(1, activation=\"sigmoid\", name='Output')(x)"
   ]
  },
  {
   "cell_type": "code",
   "execution_count": 75,
   "id": "34bab6da-40a7-4b5f-9e71-edf3b8ce0784",
   "metadata": {},
   "outputs": [],
   "source": [
    "transformer_1 = Model(inputs=input_layer, outputs=outputs_layer)\n",
    "transformer_1.compile(optimizer=tf.keras.optimizers.Adamax(), loss=tf.keras.losses.binary_crossentropy, metrics=[\"accuracy\"])"
   ]
  },
  {
   "cell_type": "code",
   "execution_count": 44,
   "id": "aa81a130-ecbb-42f2-8237-fcaf3f9df1ae",
   "metadata": {},
   "outputs": [
    {
     "name": "stdout",
     "output_type": "stream",
     "text": [
      "Model: \"model\"\n",
      "__________________________________________________________________________________________________\n",
      " Layer (type)                Output Shape                 Param #   Connected to                  \n",
      "==================================================================================================\n",
      " Input (InputLayer)          [(None, 2028)]               0         []                            \n",
      "                                                                                                  \n",
      " Embeddings (Embedding)      (None, 2028, 400)            9200      ['Input[0][0]']               \n",
      "                                                                                                  \n",
      " positional_encoding (Posit  (None, 2028, 400)            0         ['Embeddings[0][0]']          \n",
      " ionalEncoding)                                                                                   \n",
      "                                                                                                  \n",
      " Attention1 (MultiHeadAtten  (None, 2028, 400)            3847600   ['positional_encoding[0][0]', \n",
      " tion)                                                               'positional_encoding[0][0]'] \n",
      "                                                                                                  \n",
      " tf.cast (TFOpLambda)        (None, 2028, 400)            0         ['Attention1[0][0]']          \n",
      "                                                                                                  \n",
      " tf.__operators__.add (TFOp  (None, 2028, 400)            0         ['positional_encoding[0][0]', \n",
      " Lambda)                                                             'tf.cast[0][0]']             \n",
      "                                                                                                  \n",
      " LayerNorm1 (LayerNormaliza  (None, 2028, 400)            800       ['tf.__operators__.add[0][0]']\n",
      " tion)                                                                                            \n",
      "                                                                                                  \n",
      " Dense1 (Dense)              (None, 2028, 400)            160400    ['LayerNorm1[0][0]']          \n",
      "                                                                                                  \n",
      " Dense2 (Dense)              (None, 2028, 400)            160400    ['Dense1[0][0]']              \n",
      "                                                                                                  \n",
      " tf.__operators__.add_1 (TF  (None, 2028, 400)            0         ['LayerNorm1[0][0]',          \n",
      " OpLambda)                                                           'Dense2[0][0]']              \n",
      "                                                                                                  \n",
      " LayerNorm2 (LayerNormaliza  (None, 2028, 400)            800       ['tf.__operators__.add_1[0][0]\n",
      " tion)                                                              ']                            \n",
      "                                                                                                  \n",
      " GAPooling1D (GlobalAverage  (None, 400)                  0         ['LayerNorm2[0][0]']          \n",
      " Pooling1D)                                                                                       \n",
      "                                                                                                  \n",
      " Dropout (Dropout)           (None, 400)                  0         ['GAPooling1D[0][0]']         \n",
      "                                                                                                  \n",
      " Output (Dense)              (None, 1)                    401       ['Dropout[0][0]']             \n",
      "                                                                                                  \n",
      "==================================================================================================\n",
      "Total params: 4179601 (15.94 MB)\n",
      "Trainable params: 4179601 (15.94 MB)\n",
      "Non-trainable params: 0 (0.00 Byte)\n",
      "__________________________________________________________________________________________________\n"
     ]
    }
   ],
   "source": [
    "transformer_1.summary()"
   ]
  },
  {
   "cell_type": "code",
   "execution_count": 45,
   "id": "11edf38f-7aa9-417a-b834-d19cf8f564c0",
   "metadata": {},
   "outputs": [
    {
     "name": "stdout",
     "output_type": "stream",
     "text": [
      "Epoch 1/5\n"
     ]
    },
    {
     "name": "stderr",
     "output_type": "stream",
     "text": [
      "2024-05-15 18:48:11.618542: I external/local_xla/xla/service/service.cc:168] XLA service 0x7fa194003510 initialized for platform CUDA (this does not guarantee that XLA will be used). Devices:\n",
      "2024-05-15 18:48:11.618572: I external/local_xla/xla/service/service.cc:176]   StreamExecutor device (0): NVIDIA GeForce RTX 3060, Compute Capability 8.6\n",
      "2024-05-15 18:48:11.645121: I tensorflow/compiler/mlir/tensorflow/utils/dump_mlir_util.cc:269] disabling MLIR crash reproducer, set env var `MLIR_CRASH_REPRODUCER_DIRECTORY` to enable.\n",
      "2024-05-15 18:48:11.727561: I external/local_xla/xla/stream_executor/cuda/cuda_dnn.cc:454] Loaded cuDNN version 8907\n"
     ]
    },
    {
     "name": "stdout",
     "output_type": "stream",
     "text": [
      "  1/354 [..............................] - ETA: 16:03 - loss: 1.5840 - accuracy: 0.0312"
     ]
    },
    {
     "name": "stderr",
     "output_type": "stream",
     "text": [
      "WARNING: All log messages before absl::InitializeLog() is called are written to STDERR\n",
      "I0000 00:00:1715788091.828408   25637 device_compiler.h:186] Compiled cluster using XLA!  This line is logged at most once for the lifetime of the process.\n"
     ]
    },
    {
     "name": "stdout",
     "output_type": "stream",
     "text": [
      "354/354 [==============================] - 174s 485ms/step - loss: 0.3302 - accuracy: 0.9068\n",
      "Epoch 2/5\n",
      "354/354 [==============================] - 172s 486ms/step - loss: 0.3080 - accuracy: 0.9098\n",
      "Epoch 3/5\n",
      "354/354 [==============================] - 173s 489ms/step - loss: 0.3084 - accuracy: 0.9098\n",
      "Epoch 4/5\n",
      "354/354 [==============================] - 172s 487ms/step - loss: 0.3059 - accuracy: 0.9098\n",
      "Epoch 5/5\n",
      "354/354 [==============================] - 173s 488ms/step - loss: 0.3065 - accuracy: 0.9098\n"
     ]
    }
   ],
   "source": [
    "history = transformer_1.fit(sequences_1p_train, labels_1p_train, epochs=5, batch_size=32)"
   ]
  },
  {
   "cell_type": "code",
   "execution_count": 46,
   "id": "847d9027-a9f5-42ef-8026-787b0cd7d52f",
   "metadata": {},
   "outputs": [
    {
     "name": "stdout",
     "output_type": "stream",
     "text": [
      "89/89 [==============================] - 16s 181ms/step\n"
     ]
    }
   ],
   "source": [
    "predictions = transformer_1.predict(sequences_1p_test)"
   ]
  },
  {
   "cell_type": "code",
   "execution_count": 47,
   "id": "28923ba7-fc0e-445c-9eff-e9e101436a79",
   "metadata": {},
   "outputs": [
    {
     "name": "stdout",
     "output_type": "stream",
     "text": [
      "Accuracy:  0.9110483586304271\n",
      "Loss:  0.3005\n"
     ]
    }
   ],
   "source": [
    "predictions = hf.model_accuracy(labels_1p_test, predictions)"
   ]
  },
  {
   "cell_type": "code",
   "execution_count": 48,
   "id": "5e93a0f5-537b-4092-9c9a-d2b3c7929eef",
   "metadata": {},
   "outputs": [
    {
     "name": "stdout",
     "output_type": "stream",
     "text": [
      "              precision    recall  f1-score   support\n",
      "\n",
      "    Negative       0.91      1.00      0.95      2581\n",
      "    Positive       0.00      0.00      0.00       252\n",
      "\n",
      "    accuracy                           0.91      2833\n",
      "   macro avg       0.46      0.50      0.48      2833\n",
      "weighted avg       0.83      0.91      0.87      2833\n",
      "\n"
     ]
    }
   ],
   "source": [
    "hf.class_report(labels_1p_test, predictions)"
   ]
  },
  {
   "cell_type": "code",
   "execution_count": 49,
   "id": "1ac6fa2a-6473-478b-bd33-f50e7b1d6b16",
   "metadata": {},
   "outputs": [
    {
     "data": {
      "image/png": "[encoded data removed]",
      "text/plain": [
       "<Figure size 640x480 with 2 Axes>"
      ]
     },
     "metadata": {},
     "output_type": "display_data"
    }
   ],
   "source": [
    "hf.conf_matrix(labels_1p_test, predictions, '1_pair/1p_transformer_1_cm')"
   ]
  },
  {
   "cell_type": "code",
   "execution_count": 50,
   "id": "f0560f0d-c728-4b8c-b6ab-34ba2a87e960",
   "metadata": {},
   "outputs": [
    {
     "data": {
      "image/png": "[encoded data removed]",
      "text/plain": [
       "<Figure size 640x480 with 1 Axes>"
      ]
     },
     "metadata": {},
     "output_type": "display_data"
    }
   ],
   "source": [
    "hf.roc_auc_curve(labels_1p_test, predictions, '1_pair/1p_transformer_1_roc_auc')"
   ]
  },
  {
   "cell_type": "code",
   "execution_count": 51,
   "id": "71bdfc82-d3d0-4ac6-830e-114e29c72954",
   "metadata": {},
   "outputs": [
    {
     "data": {
      "image/png": "[encoded data removed]",
      "text/plain": [
       "<Figure size 1400x500 with 2 Axes>"
      ]
     },
     "metadata": {},
     "output_type": "display_data"
    }
   ],
   "source": [
    "hf.plot_history(history)"
   ]
  },
  {
   "cell_type": "markdown",
   "id": "6b0dce90-d8c9-4126-94b8-e41f55594a1f",
   "metadata": {},
   "source": [
    "## Modeling (2 Aminos Tokenization)"
   ]
  },
  {
   "cell_type": "code",
   "execution_count": 52,
   "id": "0eb46a2b-b0ec-4ff9-a30f-31e8cc535200",
   "metadata": {},
   "outputs": [],
   "source": [
    "sequence_len = sequences_2p_train.shape[1]\n",
    "voc_size = len(tokenizer2.word_index)\n",
    "embedding_dim = 400"
   ]
  },
  {
   "cell_type": "markdown",
   "id": "b54467e9-f35e-42db-9010-38fd90c931f9",
   "metadata": {},
   "source": [
    "### LSTM"
   ]
  },
  {
   "cell_type": "code",
   "execution_count": 66,
   "id": "1f29294d-0bfe-4998-83c2-1f1e6187972d",
   "metadata": {
    "scrolled": true
   },
   "outputs": [],
   "source": [
    "inputs = Input(shape=(sequence_len), name='Input')\n",
    "embeddings = Embedding(input_dim=voc_size, output_dim=embedding_dim, input_length=sequence_len, name='Embeddings')(inputs)\n",
    "\n",
    "lstms1 = LSTM(20, name='LSTM_layer_1', return_sequences=True)(embeddings)\n",
    "x = Dropout(0.1)(lstms1)\n",
    "lstms2 = LSTM(20, name='LSTM_layer_2', return_sequences=True)(x)\n",
    "x = Dropout(0.1)(lstms1)\n",
    "lstms3 = LSTM(20, name='LSTM_layer_3')(x)\n",
    "\n",
    "dense1 = Dense(10, activation='relu', name='Dense_1')(lstms3)\n",
    "dense2 = Dense(5, activation='relu', name='Dense_2')(dense1)\n",
    "\n",
    "outputs = Dense(1, activation=tf.keras.activations.hard_sigmoid, name='Output')(dense2)"
   ]
  },
  {
   "cell_type": "code",
   "execution_count": 67,
   "id": "0e8a5bfd-4e64-4333-a411-08ce5a3e6e59",
   "metadata": {},
   "outputs": [
    {
     "name": "stdout",
     "output_type": "stream",
     "text": [
      "Model: \"model_3\"\n",
      "_________________________________________________________________\n",
      " Layer (type)                Output Shape              Param #   \n",
      "=================================================================\n",
      " Input (InputLayer)          [(None, 1014)]            0         \n",
      "                                                                 \n",
      " Embeddings (Embedding)      (None, 1014, 400)         186400    \n",
      "                                                                 \n",
      " LSTM_layer_1 (LSTM)         (None, 1014, 20)          33680     \n",
      "                                                                 \n",
      " dropout_3 (Dropout)         (None, 1014, 20)          0         \n",
      "                                                                 \n",
      " LSTM_layer_3 (LSTM)         (None, 20)                3280      \n",
      "                                                                 \n",
      " Dense_1 (Dense)             (None, 10)                210       \n",
      "                                                                 \n",
      " Dense_2 (Dense)             (None, 5)                 55        \n",
      "                                                                 \n",
      " Output (Dense)              (None, 1)                 6         \n",
      "                                                                 \n",
      "=================================================================\n",
      "Total params: 223631 (873.56 KB)\n",
      "Trainable params: 223631 (873.56 KB)\n",
      "Non-trainable params: 0 (0.00 Byte)\n",
      "_________________________________________________________________\n"
     ]
    }
   ],
   "source": [
    "model_1 = Model(inputs=inputs, outputs=outputs)\n",
    "model_1.summary()"
   ]
  },
  {
   "cell_type": "code",
   "execution_count": 68,
   "id": "a76fa47a-9d26-4322-94d3-56f37d39bab8",
   "metadata": {},
   "outputs": [],
   "source": [
    "model_1.compile(optimizer=tf.keras.optimizers.Adamax(), loss=tf.keras.losses.binary_focal_crossentropy, metrics=['accuracy'])"
   ]
  },
  {
   "cell_type": "code",
   "execution_count": 69,
   "id": "413f30e2-de12-4f08-b945-45d6aa2ef286",
   "metadata": {},
   "outputs": [
    {
     "name": "stdout",
     "output_type": "stream",
     "text": [
      "Epoch 1/2\n",
      "454/454 [==============================] - 46s 98ms/step - loss: 0.0840 - accuracy: 0.9098\n",
      "Epoch 2/2\n",
      "454/454 [==============================] - 46s 101ms/step - loss: 0.0826 - accuracy: 0.9098\n"
     ]
    }
   ],
   "source": [
    "history = model_1.fit(sequences_2p_train, labels_2p_train, epochs=2, batch_size=25)"
   ]
  },
  {
   "cell_type": "code",
   "execution_count": 70,
   "id": "6b245985-1916-4a90-93fb-a66d84b35850",
   "metadata": {},
   "outputs": [
    {
     "name": "stdout",
     "output_type": "stream",
     "text": [
      "89/89 [==============================] - 6s 67ms/step\n"
     ]
    }
   ],
   "source": [
    "predictions = model_1.predict(sequences_2p_test)"
   ]
  },
  {
   "cell_type": "code",
   "execution_count": 71,
   "id": "2e1fc4c6-896f-438d-9ca4-903e10da09d8",
   "metadata": {},
   "outputs": [
    {
     "name": "stdout",
     "output_type": "stream",
     "text": [
      "Accuracy:  0.9110483586304271\n",
      "Loss:  0.4165\n"
     ]
    }
   ],
   "source": [
    "predictions = hf.model_accuracy(labels_2p_test, predictions)"
   ]
  },
  {
   "cell_type": "code",
   "execution_count": 72,
   "id": "c154874c-b1a4-4aa3-9c13-b0f40ce198fb",
   "metadata": {},
   "outputs": [
    {
     "name": "stdout",
     "output_type": "stream",
     "text": [
      "              precision    recall  f1-score   support\n",
      "\n",
      "    Negative       0.91      1.00      0.95      2581\n",
      "    Positive       0.00      0.00      0.00       252\n",
      "\n",
      "    accuracy                           0.91      2833\n",
      "   macro avg       0.46      0.50      0.48      2833\n",
      "weighted avg       0.83      0.91      0.87      2833\n",
      "\n"
     ]
    }
   ],
   "source": [
    "hf.class_report(labels_2p_test, predictions)"
   ]
  },
  {
   "cell_type": "code",
   "execution_count": 73,
   "id": "c584df39-36bf-4244-89b7-6423c2f6e4bd",
   "metadata": {},
   "outputs": [
    {
     "data": {
      "image/png": "[encoded data removed]",
      "text/plain": [
       "<Figure size 640x480 with 2 Axes>"
      ]
     },
     "metadata": {},
     "output_type": "display_data"
    }
   ],
   "source": [
    "hf.conf_matrix(labels_2p_test, predictions, '2_pair/2p_lstm_baseline_cm')"
   ]
  },
  {
   "cell_type": "code",
   "execution_count": 74,
   "id": "36415513-9f29-45ca-9fb1-023a163dc394",
   "metadata": {},
   "outputs": [
    {
     "data": {
      "image/png": "[encoded data removed]",
      "text/plain": [
       "<Figure size 640x480 with 1 Axes>"
      ]
     },
     "metadata": {},
     "output_type": "display_data"
    }
   ],
   "source": [
    "hf.roc_auc_curve(labels_2p_test, predictions, '2_pair/2p_lstm_baseline_roc_auc')"
   ]
  },
  {
   "cell_type": "markdown",
   "id": "f5ecec90-89b8-48d0-b2c9-6dd867da8cfc",
   "metadata": {},
   "source": [
    "### Transformers"
   ]
  },
  {
   "cell_type": "code",
   "execution_count": 76,
   "id": "4a207b61-4621-4ab6-8279-a51237e048f4",
   "metadata": {},
   "outputs": [],
   "source": [
    "input_layer = Input(shape=(sequence_len), dtype=tf.float32, name='Input')\n",
    "\n",
    "x = Embedding(input_dim=voc_size, output_dim=embedding_dim, name='Embeddings')(input_layer)\n",
    "\n",
    "x = PositionalEncoding(position=sequence_len, d_model=embedding_dim)(x)\n",
    "\n",
    "attention = MultiHeadAttention(num_heads=6, key_dim=embedding_dim, name='Attention1')(x, x)\n",
    "attention = tf.cast(attention, dtype=tf.float32)  \n",
    "\n",
    "x = LayerNormalization(epsilon=1e-6, name='LayerNorm1')(x + attention)\n",
    "\n",
    "dense = Dense(embedding_dim, activation='relu', name='Dense1')(x)\n",
    "dense = Dense(embedding_dim, activation='relu', name='Dense2')(dense)\n",
    "\n",
    "x = LayerNormalization(epsilon=1e-6, name='LayerNorm2')(x + dense)\n",
    "x = GlobalAveragePooling1D(name='GAPooling1D')(x)\n",
    "x = Dropout(0.1, name='Dropout')(x)\n",
    "\n",
    "outputs_layer = Dense(1, activation=\"sigmoid\", name='Output')(x)"
   ]
  },
  {
   "cell_type": "code",
   "execution_count": 77,
   "id": "5c9fad76-40b0-4eae-8de8-26e8651d09cb",
   "metadata": {},
   "outputs": [],
   "source": [
    "transformer_1 = Model(inputs=input_layer, outputs=outputs_layer)\n",
    "transformer_1.compile(optimizer=tf.keras.optimizers.Adam(), loss=tf.keras.losses.binary_crossentropy, metrics=[\"accuracy\"])"
   ]
  },
  {
   "cell_type": "code",
   "execution_count": 78,
   "id": "9d5ab7bd-2cd1-411b-8fd1-e881cdf6cae3",
   "metadata": {},
   "outputs": [
    {
     "name": "stdout",
     "output_type": "stream",
     "text": [
      "Model: \"model_5\"\n",
      "__________________________________________________________________________________________________\n",
      " Layer (type)                Output Shape                 Param #   Connected to                  \n",
      "==================================================================================================\n",
      " Input (InputLayer)          [(None, 1014)]               0         []                            \n",
      "                                                                                                  \n",
      " Embeddings (Embedding)      (None, 1014, 400)            186400    ['Input[0][0]']               \n",
      "                                                                                                  \n",
      " positional_encoding_2 (Pos  (None, 1014, 400)            0         ['Embeddings[0][0]']          \n",
      " itionalEncoding)                                                                                 \n",
      "                                                                                                  \n",
      " Attention1 (MultiHeadAtten  (None, 1014, 400)            3847600   ['positional_encoding_2[0][0]'\n",
      " tion)                                                              , 'positional_encoding_2[0][0]\n",
      "                                                                    ']                            \n",
      "                                                                                                  \n",
      " tf.cast_2 (TFOpLambda)      (None, 1014, 400)            0         ['Attention1[0][0]']          \n",
      "                                                                                                  \n",
      " tf.__operators__.add_4 (TF  (None, 1014, 400)            0         ['positional_encoding_2[0][0]'\n",
      " OpLambda)                                                          , 'tf.cast_2[0][0]']          \n",
      "                                                                                                  \n",
      " LayerNorm1 (LayerNormaliza  (None, 1014, 400)            800       ['tf.__operators__.add_4[0][0]\n",
      " tion)                                                              ']                            \n",
      "                                                                                                  \n",
      " Dense1 (Dense)              (None, 1014, 400)            160400    ['LayerNorm1[0][0]']          \n",
      "                                                                                                  \n",
      " Dense2 (Dense)              (None, 1014, 400)            160400    ['Dense1[0][0]']              \n",
      "                                                                                                  \n",
      " tf.__operators__.add_5 (TF  (None, 1014, 400)            0         ['LayerNorm1[0][0]',          \n",
      " OpLambda)                                                           'Dense2[0][0]']              \n",
      "                                                                                                  \n",
      " LayerNorm2 (LayerNormaliza  (None, 1014, 400)            800       ['tf.__operators__.add_5[0][0]\n",
      " tion)                                                              ']                            \n",
      "                                                                                                  \n",
      " GAPooling1D (GlobalAverage  (None, 400)                  0         ['LayerNorm2[0][0]']          \n",
      " Pooling1D)                                                                                       \n",
      "                                                                                                  \n",
      " Dropout (Dropout)           (None, 400)                  0         ['GAPooling1D[0][0]']         \n",
      "                                                                                                  \n",
      " Output (Dense)              (None, 1)                    401       ['Dropout[0][0]']             \n",
      "                                                                                                  \n",
      "==================================================================================================\n",
      "Total params: 4356801 (16.62 MB)\n",
      "Trainable params: 4356801 (16.62 MB)\n",
      "Non-trainable params: 0 (0.00 Byte)\n",
      "__________________________________________________________________________________________________\n"
     ]
    }
   ],
   "source": [
    "transformer_1.summary()"
   ]
  },
  {
   "cell_type": "code",
   "execution_count": 79,
   "id": "96e77168-70cb-4d83-9cc6-27eabbe40726",
   "metadata": {},
   "outputs": [
    {
     "name": "stdout",
     "output_type": "stream",
     "text": [
      "Epoch 1/5\n",
      "354/354 [==============================] - 66s 181ms/step - loss: 0.3717 - accuracy: 0.9045\n",
      "Epoch 2/5\n",
      "354/354 [==============================] - 63s 179ms/step - loss: 0.3082 - accuracy: 0.9098\n",
      "Epoch 3/5\n",
      "354/354 [==============================] - 64s 180ms/step - loss: 0.3082 - accuracy: 0.9098\n",
      "Epoch 4/5\n",
      "354/354 [==============================] - 63s 179ms/step - loss: 0.3001 - accuracy: 0.9099\n",
      "Epoch 5/5\n",
      "354/354 [==============================] - 63s 179ms/step - loss: 0.2930 - accuracy: 0.9104\n"
     ]
    }
   ],
   "source": [
    "history = transformer_1.fit(sequences_2p_train, labels_2p_train, epochs=5, batch_size=32)"
   ]
  },
  {
   "cell_type": "code",
   "execution_count": 80,
   "id": "9de677a2-63d5-4f74-98b6-04f693975504",
   "metadata": {},
   "outputs": [
    {
     "name": "stdout",
     "output_type": "stream",
     "text": [
      "89/89 [==============================] - 6s 66ms/step\n"
     ]
    }
   ],
   "source": [
    "predictions = transformer_1.predict(sequences_2p_test)"
   ]
  },
  {
   "cell_type": "code",
   "execution_count": 81,
   "id": "528c29c8-19f4-4c1d-8664-3c0838cfbb68",
   "metadata": {},
   "outputs": [
    {
     "name": "stdout",
     "output_type": "stream",
     "text": [
      "Accuracy:  0.9124602894458171\n",
      "Loss:  0.2878\n"
     ]
    }
   ],
   "source": [
    "predictions = hf.model_accuracy(labels_2p_test, predictions)"
   ]
  },
  {
   "cell_type": "code",
   "execution_count": 82,
   "id": "87831dbd-b7ef-453d-a21e-54fc3bac45e6",
   "metadata": {},
   "outputs": [
    {
     "name": "stdout",
     "output_type": "stream",
     "text": [
      "              precision    recall  f1-score   support\n",
      "\n",
      "    Negative       0.91      1.00      0.95      2581\n",
      "    Positive       1.00      0.02      0.03       252\n",
      "\n",
      "    accuracy                           0.91      2833\n",
      "   macro avg       0.96      0.51      0.49      2833\n",
      "weighted avg       0.92      0.91      0.87      2833\n",
      "\n"
     ]
    }
   ],
   "source": [
    "hf.class_report(labels_2p_test, predictions)"
   ]
  },
  {
   "cell_type": "code",
   "execution_count": 83,
   "id": "3a21603f-9837-4b43-85eb-46cd4794fdd5",
   "metadata": {},
   "outputs": [
    {
     "data": {
      "image/png": "[encoded data removed]",
      "text/plain": [
       "<Figure size 640x480 with 2 Axes>"
      ]
     },
     "metadata": {},
     "output_type": "display_data"
    }
   ],
   "source": [
    "hf.conf_matrix(labels_2p_test, predictions, '2_pair/2p_transformer_1_cm')"
   ]
  },
  {
   "cell_type": "code",
   "execution_count": 84,
   "id": "03d63569-708d-41fa-91be-6efcb53c324c",
   "metadata": {},
   "outputs": [
    {
     "data": {
      "image/png": "[encoded data removed]",
      "text/plain": [
       "<Figure size 640x480 with 1 Axes>"
      ]
     },
     "metadata": {},
     "output_type": "display_data"
    }
   ],
   "source": [
    "hf.roc_auc_curve(labels_2p_test, predictions, '2_pair/2p_transformer_1_roc_auc')"
   ]
  },
  {
   "cell_type": "code",
   "execution_count": 85,
   "id": "822ced0b-0453-4223-87be-a819fb53c298",
   "metadata": {},
   "outputs": [
    {
     "data": {
      "image/png": "[encoded data removed]",
      "text/plain": [
       "<Figure size 1400x500 with 2 Axes>"
      ]
     },
     "metadata": {},
     "output_type": "display_data"
    }
   ],
   "source": [
    "hf.plot_history(history)"
   ]
  },
  {
   "cell_type": "code",
   "execution_count": null,
   "id": "cb411b4d-eff8-4f09-8820-932fb8881fb7",
   "metadata": {},
   "outputs": [],
   "source": []
  },
  {
   "cell_type": "code",
   "execution_count": null,
   "id": "9cac1f36-6850-46b6-924b-ca8cb2b7f3eb",
   "metadata": {},
   "outputs": [],
   "source": []
  },
  {
   "cell_type": "code",
   "execution_count": null,
   "id": "4048c4e2-b0c8-4807-b89b-cb190e9a7d7a",
   "metadata": {},
   "outputs": [],
   "source": []
  },
  {
   "cell_type": "code",
   "execution_count": null,
   "id": "3a0ccbe7-0128-48c5-a543-4ea7b286ce59",
   "metadata": {},
   "outputs": [],
   "source": []
  },
  {
   "cell_type": "code",
   "execution_count": null,
   "id": "87fa927f-9aab-4202-b721-5a644db3ba5b",
   "metadata": {},
   "outputs": [],
   "source": []
  },
  {
   "cell_type": "code",
   "execution_count": null,
   "id": "abe731e7-3c56-4c4d-a704-5cf72fce52b1",
   "metadata": {},
   "outputs": [],
   "source": []
  },
  {
   "cell_type": "code",
   "execution_count": null,
   "id": "7310509b-1a1a-44e0-923e-8927ad7af40a",
   "metadata": {},
   "outputs": [],
   "source": []
  },
  {
   "cell_type": "code",
   "execution_count": null,
   "id": "14a77136-d95d-48fa-aacd-37a260cf66f3",
   "metadata": {},
   "outputs": [],
   "source": []
  },
  {
   "cell_type": "code",
   "execution_count": null,
   "id": "cc38a67c-e52f-4be3-a96f-4ef7c91d0ef4",
   "metadata": {},
   "outputs": [],
   "source": []
  }
 ],
 "metadata": {
  "kernelspec": {
   "display_name": "Python 3 (ipykernel)",
   "language": "python",
   "name": "python3"
  },
  "language_info": {
   "codemirror_mode": {
    "name": "ipython",
    "version": 3
   },
   "file_extension": ".py",
   "mimetype": "text/x-python",
   "name": "python",
   "nbconvert_exporter": "python",
   "pygments_lexer": "ipython3",
   "version": "3.10.12"
  }
 },
 "nbformat": 4,
 "nbformat_minor": 5
}
