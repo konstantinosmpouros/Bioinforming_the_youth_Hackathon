{
 "cells": [
  {
   "cell_type": "markdown",
   "id": "be5a13b8-5bc4-4254-bd2a-ba73bb45fbff",
   "metadata": {},
   "source": [
    "# Resistance plant gene prediction - Embeddings"
   ]
  },
  {
   "cell_type": "markdown",
   "id": "e021e657-a839-4f1d-92d5-eb877525bca1",
   "metadata": {},
   "source": [
    "## Libraries"
   ]
  },
  {
   "cell_type": "code",
   "execution_count": 1,
   "id": "0f22b75a-2636-447b-a9ff-997e338da711",
   "metadata": {
    "tags": []
   },
   "outputs": [],
   "source": [
    "# Data manipulation\n",
    "import pandas as pd\n",
    "\n",
    "# Request for GPT embeddings\n",
    "from openai import OpenAI"
   ]
  },
  {
   "cell_type": "markdown",
   "id": "740a58f3-138c-496b-a9a7-f26c3e0dd391",
   "metadata": {
    "jp-MarkdownHeadingCollapsed": true,
    "tags": []
   },
   "source": [
    "## Data loading"
   ]
  },
  {
   "cell_type": "code",
   "execution_count": 2,
   "id": "73e76a5e-fa06-4d7c-80c0-426fa6eec4dc",
   "metadata": {
    "tags": [],
    "vscode": {
     "languageId": "plaintext"
    }
   },
   "outputs": [],
   "source": [
    "molecules = pd.read_csv('Data/train.csv')"
   ]
  },
  {
   "cell_type": "code",
   "execution_count": 3,
   "id": "85f3f914-eda4-438b-a296-3f63a5f89fc0",
   "metadata": {
    "tags": [],
    "vscode": {
     "languageId": "plaintext"
    }
   },
   "outputs": [
    {
     "data": {
      "text/html": [
       "<div>\n",
       "<style scoped>\n",
       "    .dataframe tbody tr th:only-of-type {\n",
       "        vertical-align: middle;\n",
       "    }\n",
       "\n",
       "    .dataframe tbody tr th {\n",
       "        vertical-align: top;\n",
       "    }\n",
       "\n",
       "    .dataframe thead th {\n",
       "        text-align: right;\n",
       "    }\n",
       "</style>\n",
       "<table border=\"1\" class=\"dataframe\">\n",
       "  <thead>\n",
       "    <tr style=\"text-align: right;\">\n",
       "      <th></th>\n",
       "      <th>ID</th>\n",
       "      <th>Sequence</th>\n",
       "      <th>Label</th>\n",
       "    </tr>\n",
       "  </thead>\n",
       "  <tbody>\n",
       "    <tr>\n",
       "      <th>9983</th>\n",
       "      <td>13374</td>\n",
       "      <td>MDPISAVSEELAEIEGQINDIFRALSNGFQKLEKIKDANRQSRQLE...</td>\n",
       "      <td>0</td>\n",
       "    </tr>\n",
       "    <tr>\n",
       "      <th>8055</th>\n",
       "      <td>10777</td>\n",
       "      <td>MNRIRYCFELVSVLFLMFTANARARGRGAIDFDVNYVVTWGQDHIL...</td>\n",
       "      <td>0</td>\n",
       "    </tr>\n",
       "    <tr>\n",
       "      <th>287</th>\n",
       "      <td>402</td>\n",
       "      <td>MASNVFDHPLQELEGEDNGVKSEKASLLETSGSVDTTPEDSGHRSS...</td>\n",
       "      <td>0</td>\n",
       "    </tr>\n",
       "    <tr>\n",
       "      <th>805</th>\n",
       "      <td>1087</td>\n",
       "      <td>MAAESTVELESSMKEHRDDDEKSNGFSVSAVSMDVEGGDKDPSGNG...</td>\n",
       "      <td>0</td>\n",
       "    </tr>\n",
       "    <tr>\n",
       "      <th>12434</th>\n",
       "      <td>16607</td>\n",
       "      <td>MAMETKSCQQLHIFFLPFMARGHSIPLTDIAKLFSSHGARCTIVTT...</td>\n",
       "      <td>0</td>\n",
       "    </tr>\n",
       "    <tr>\n",
       "      <th>5282</th>\n",
       "      <td>7055</td>\n",
       "      <td>MSDAYCTDCKKETELVVDHSAGDTLCSECGLVLESHSIDETSEWRT...</td>\n",
       "      <td>0</td>\n",
       "    </tr>\n",
       "  </tbody>\n",
       "</table>\n",
       "</div>"
      ],
      "text/plain": [
       "          ID                                           Sequence  Label\n",
       "9983   13374  MDPISAVSEELAEIEGQINDIFRALSNGFQKLEKIKDANRQSRQLE...      0\n",
       "8055   10777  MNRIRYCFELVSVLFLMFTANARARGRGAIDFDVNYVVTWGQDHIL...      0\n",
       "287      402  MASNVFDHPLQELEGEDNGVKSEKASLLETSGSVDTTPEDSGHRSS...      0\n",
       "805     1087  MAAESTVELESSMKEHRDDDEKSNGFSVSAVSMDVEGGDKDPSGNG...      0\n",
       "12434  16607  MAMETKSCQQLHIFFLPFMARGHSIPLTDIAKLFSSHGARCTIVTT...      0\n",
       "5282    7055  MSDAYCTDCKKETELVVDHSAGDTLCSECGLVLESHSIDETSEWRT...      0"
      ]
     },
     "execution_count": 3,
     "metadata": {},
     "output_type": "execute_result"
    }
   ],
   "source": [
    "molecules.sample(6)"
   ]
  },
  {
   "cell_type": "code",
   "execution_count": 4,
   "id": "b3d3ff32-9641-45d0-884e-5546287bf35c",
   "metadata": {
    "tags": []
   },
   "outputs": [
    {
     "data": {
      "text/plain": [
       "'MDSRMDQYEVMEQIGRGAFGAAILVNHKTEKKKYVLKKIRLARQTERCRKSAHQEMALIARLQHPYIVEFKEAWVEKGCYVCIVTGYCEGGDMAELMKKANGTYFPEEKLLKWFAQLALAVDYLHSNFVLHRDLKCSNIFLTKDQDIRLGDFGLAKTLKADDLTSSVVGTPNYMCPELLADIPYGFKSDIWSLGCCMYEMAAHRPAFKAFDMAGLISKINRSSIGPLPPCYSPSMKSLIKSMLRKSPEHRPTASEILKSPYLQPYVNQYRPFADISHPIHSLEKPITSSRSSQKSMSGSQCSSISGSDIDSIQSSERNTSGPSTSSNNTIDTEGAEATDHVSVKNCSRSDDVKSNKETVGPELERQDSSKSIHVDQRPRNEIKQPKIIKKILTTLREESKLRQNNSPIRASRVKLNSPSNREQLSDDSKHSSDISSSSKSSEVTSRESAKVICEPVKRAQASPPLKHLSPIVEHSPKAKIKQDEPLQPDPAKQAMEDVDAAVGKVKNRTPPSYSRRLSIPPRRPLGAESPLHADTKRAHNKVIKERAKSPCRPVHGPDNDIIEPPGFPMAPPSPLGGVQMKVGNARAKSAPPRAVSIKEDSSDCSSSTIAYAENTELSEPSKQDSSAQLVSSCKCSIPDAAIQKHDLTAMPSSELNTTNFQKSMASNDDVCENLALEPSSDISEQVSIFKDNVPCSKISQSTANAIVQNDEDKFTVQELLSSVADIAPFVSTKNFALEKGSPPIQSLERTSSPHLNPPIEDVIHVIRHSSFRVCGEQAVAENAEMGVQSSDVGKLLNVVREEVDSRSIPSNNLVPHRLPDCAAPKPNISETNTISSKTACSDVVKFLTVPEVNSTTTAINNGFKEEASPTKEILDVKSFRQRAEALEGLLELSADLLQHNRLEELAVVLKPFGKDKVSPRETAIWLAKSFKGMMNDEASRSSM'"
      ]
     },
     "execution_count": 4,
     "metadata": {},
     "output_type": "execute_result"
    }
   ],
   "source": [
    "molecules.iloc[0, 1]"
   ]
  },
  {
   "cell_type": "markdown",
   "id": "0b22fbc1-a437-4e93-8fc9-9b22fde27788",
   "metadata": {
    "tags": []
   },
   "source": [
    "## ChatGPT embeddings"
   ]
  },
  {
   "cell_type": "code",
   "execution_count": 5,
   "id": "d8504e55-e11f-49f9-98b8-2d64ddfd7531",
   "metadata": {},
   "outputs": [],
   "source": [
    "gpt_keys = pd.read_csv('../ChatGPT API Keys.txt').columns"
   ]
  },
  {
   "cell_type": "code",
   "execution_count": 6,
   "id": "2f924a35-7f0f-415e-b763-c5a2e6eb12ca",
   "metadata": {
    "tags": []
   },
   "outputs": [],
   "source": [
    "api_key = gpt_keys[0]\n",
    "org_key = gpt_keys[1]\n",
    "model = 'text-embedding-3-small'"
   ]
  },
  {
   "cell_type": "code",
   "execution_count": 7,
   "id": "1e577b46-a4a9-41a0-9970-56a5ed804066",
   "metadata": {
    "tags": []
   },
   "outputs": [],
   "source": [
    "seq1 = molecules.iloc[0, 1]"
   ]
  },
  {
   "cell_type": "code",
   "execution_count": 10,
   "id": "477a15ef-dd87-4317-8abf-72e1e36ecbb2",
   "metadata": {
    "tags": []
   },
   "outputs": [],
   "source": [
    "client = OpenAI(api_key=api_key, organization=org_key)"
   ]
  },
  {
   "cell_type": "code",
   "execution_count": 11,
   "id": "d264ffd8-93d6-4105-9ee3-4b65556006a4",
   "metadata": {
    "tags": []
   },
   "outputs": [],
   "source": [
    "emb1 = client.embeddings.create(input = [seq1], model=model).data[0].embedding"
   ]
  },
  {
   "cell_type": "code",
   "execution_count": 12,
   "id": "b31b41d2-0074-4721-bbb5-b3d27450377e",
   "metadata": {
    "tags": []
   },
   "outputs": [
    {
     "data": {
      "text/plain": [
       "1536"
      ]
     },
     "execution_count": 12,
     "metadata": {},
     "output_type": "execute_result"
    }
   ],
   "source": [
    "len(emb1)"
   ]
  },
  {
   "cell_type": "code",
   "execution_count": null,
   "id": "3b79040e-dc55-4164-925c-f32d3db0c576",
   "metadata": {},
   "outputs": [],
   "source": []
  }
 ],
 "metadata": {
  "kernelspec": {
   "display_name": "Python 3 (ipykernel)",
   "language": "python",
   "name": "python3"
  },
  "language_info": {
   "codemirror_mode": {
    "name": "ipython",
    "version": 3
   },
   "file_extension": ".py",
   "mimetype": "text/x-python",
   "name": "python",
   "nbconvert_exporter": "python",
   "pygments_lexer": "ipython3",
   "version": "3.10.11"
  }
 },
 "nbformat": 4,
 "nbformat_minor": 5
}
