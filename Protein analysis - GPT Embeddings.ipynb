{
 "cells": [
  {
   "cell_type": "markdown",
   "id": "be5a13b8-5bc4-4254-bd2a-ba73bb45fbff",
   "metadata": {},
   "source": [
    "# Resistance plant gene prediction - GPT Embeddings\n",
    "---"
   ]
  },
  {
   "cell_type": "markdown",
   "id": "e021e657-a839-4f1d-92d5-eb877525bca1",
   "metadata": {},
   "source": [
    "## Libraries"
   ]
  },
  {
   "cell_type": "code",
   "execution_count": 20,
   "id": "0f22b75a-2636-447b-a9ff-997e338da711",
   "metadata": {
    "tags": []
   },
   "outputs": [],
   "source": [
    "# Data manipulation\n",
    "import pandas as pd\n",
    "\n",
    "# Request for GPT embeddings\n",
    "from openai import OpenAI"
   ]
  },
  {
   "cell_type": "markdown",
   "id": "740a58f3-138c-496b-a9a7-f26c3e0dd391",
   "metadata": {
    "tags": []
   },
   "source": [
    "## Data loading"
   ]
  },
  {
   "cell_type": "code",
   "execution_count": 21,
   "id": "73e76a5e-fa06-4d7c-80c0-426fa6eec4dc",
   "metadata": {
    "tags": [],
    "vscode": {
     "languageId": "plaintext"
    }
   },
   "outputs": [],
   "source": [
    "molecules = pd.read_csv('Data/train.csv')"
   ]
  },
  {
   "cell_type": "code",
   "execution_count": 22,
   "id": "85f3f914-eda4-438b-a296-3f63a5f89fc0",
   "metadata": {
    "tags": [],
    "vscode": {
     "languageId": "plaintext"
    }
   },
   "outputs": [
    {
     "data": {
      "text/html": [
       "<div>\n",
       "<style scoped>\n",
       "    .dataframe tbody tr th:only-of-type {\n",
       "        vertical-align: middle;\n",
       "    }\n",
       "\n",
       "    .dataframe tbody tr th {\n",
       "        vertical-align: top;\n",
       "    }\n",
       "\n",
       "    .dataframe thead th {\n",
       "        text-align: right;\n",
       "    }\n",
       "</style>\n",
       "<table border=\"1\" class=\"dataframe\">\n",
       "  <thead>\n",
       "    <tr style=\"text-align: right;\">\n",
       "      <th></th>\n",
       "      <th>ID</th>\n",
       "      <th>Sequence</th>\n",
       "      <th>Label</th>\n",
       "    </tr>\n",
       "  </thead>\n",
       "  <tbody>\n",
       "    <tr>\n",
       "      <th>309</th>\n",
       "      <td>433</td>\n",
       "      <td>MRFKQPSRRDRPVMFKRSKNVSVDVGVDSISDLPDAVLQHIFSYIP...</td>\n",
       "      <td>0</td>\n",
       "    </tr>\n",
       "    <tr>\n",
       "      <th>10402</th>\n",
       "      <td>13931</td>\n",
       "      <td>MTGKRSKTNCRSASHKLFKDKAKNRVDDLQGMLLDLQFARKESRPT...</td>\n",
       "      <td>0</td>\n",
       "    </tr>\n",
       "    <tr>\n",
       "      <th>12573</th>\n",
       "      <td>16794</td>\n",
       "      <td>METLVSSIFWTLAPWKNMLLLKHGRIEILDQNTMYGWYELPKQEFL...</td>\n",
       "      <td>0</td>\n",
       "    </tr>\n",
       "    <tr>\n",
       "      <th>2461</th>\n",
       "      <td>3297</td>\n",
       "      <td>MEHKETGCQQPEGPILCINNCGFFGSAATMNMCSKCHKEMIMKQEQ...</td>\n",
       "      <td>0</td>\n",
       "    </tr>\n",
       "    <tr>\n",
       "      <th>14081</th>\n",
       "      <td>18789</td>\n",
       "      <td>MDQNGHNDEAETVSCGNGNCKSKIVPGDDHGGDESSGTKRRKKRKT...</td>\n",
       "      <td>0</td>\n",
       "    </tr>\n",
       "    <tr>\n",
       "      <th>11775</th>\n",
       "      <td>15751</td>\n",
       "      <td>MGLCWGSPSDSPPTTTPSSTGNISSVGTFKSSNNTTTTGTSRGSNI...</td>\n",
       "      <td>1</td>\n",
       "    </tr>\n",
       "  </tbody>\n",
       "</table>\n",
       "</div>"
      ],
      "text/plain": [
       "          ID                                           Sequence  Label\n",
       "309      433  MRFKQPSRRDRPVMFKRSKNVSVDVGVDSISDLPDAVLQHIFSYIP...      0\n",
       "10402  13931  MTGKRSKTNCRSASHKLFKDKAKNRVDDLQGMLLDLQFARKESRPT...      0\n",
       "12573  16794  METLVSSIFWTLAPWKNMLLLKHGRIEILDQNTMYGWYELPKQEFL...      0\n",
       "2461    3297  MEHKETGCQQPEGPILCINNCGFFGSAATMNMCSKCHKEMIMKQEQ...      0\n",
       "14081  18789  MDQNGHNDEAETVSCGNGNCKSKIVPGDDHGGDESSGTKRRKKRKT...      0\n",
       "11775  15751  MGLCWGSPSDSPPTTTPSSTGNISSVGTFKSSNNTTTTGTSRGSNI...      1"
      ]
     },
     "execution_count": 22,
     "metadata": {},
     "output_type": "execute_result"
    }
   ],
   "source": [
    "molecules.sample(6)"
   ]
  },
  {
   "cell_type": "code",
   "execution_count": 23,
   "id": "b3d3ff32-9641-45d0-884e-5546287bf35c",
   "metadata": {
    "tags": []
   },
   "outputs": [
    {
     "data": {
      "text/plain": [
       "'MDSRMDQYEVMEQIGRGAFGAAILVNHKTEKKKYVLKKIRLARQTERCRKSAHQEMALIARLQHPYIVEFKEAWVEKGCYVCIVTGYCEGGDMAELMKKANGTYFPEEKLLKWFAQLALAVDYLHSNFVLHRDLKCSNIFLTKDQDIRLGDFGLAKTLKADDLTSSVVGTPNYMCPELLADIPYGFKSDIWSLGCCMYEMAAHRPAFKAFDMAGLISKINRSSIGPLPPCYSPSMKSLIKSMLRKSPEHRPTASEILKSPYLQPYVNQYRPFADISHPIHSLEKPITSSRSSQKSMSGSQCSSISGSDIDSIQSSERNTSGPSTSSNNTIDTEGAEATDHVSVKNCSRSDDVKSNKETVGPELERQDSSKSIHVDQRPRNEIKQPKIIKKILTTLREESKLRQNNSPIRASRVKLNSPSNREQLSDDSKHSSDISSSSKSSEVTSRESAKVICEPVKRAQASPPLKHLSPIVEHSPKAKIKQDEPLQPDPAKQAMEDVDAAVGKVKNRTPPSYSRRLSIPPRRPLGAESPLHADTKRAHNKVIKERAKSPCRPVHGPDNDIIEPPGFPMAPPSPLGGVQMKVGNARAKSAPPRAVSIKEDSSDCSSSTIAYAENTELSEPSKQDSSAQLVSSCKCSIPDAAIQKHDLTAMPSSELNTTNFQKSMASNDDVCENLALEPSSDISEQVSIFKDNVPCSKISQSTANAIVQNDEDKFTVQELLSSVADIAPFVSTKNFALEKGSPPIQSLERTSSPHLNPPIEDVIHVIRHSSFRVCGEQAVAENAEMGVQSSDVGKLLNVVREEVDSRSIPSNNLVPHRLPDCAAPKPNISETNTISSKTACSDVVKFLTVPEVNSTTTAINNGFKEEASPTKEILDVKSFRQRAEALEGLLELSADLLQHNRLEELAVVLKPFGKDKVSPRETAIWLAKSFKGMMNDEASRSSM'"
      ]
     },
     "execution_count": 23,
     "metadata": {},
     "output_type": "execute_result"
    }
   ],
   "source": [
    "molecules.iloc[0, 1]"
   ]
  },
  {
   "cell_type": "markdown",
   "id": "0b22fbc1-a437-4e93-8fc9-9b22fde27788",
   "metadata": {
    "tags": []
   },
   "source": [
    "## ChatGPT embeddings"
   ]
  },
  {
   "cell_type": "code",
   "execution_count": 24,
   "id": "d8504e55-e11f-49f9-98b8-2d64ddfd7531",
   "metadata": {},
   "outputs": [],
   "source": [
    "gpt_keys = pd.read_csv('../ChatGPT API Keys.txt').columns"
   ]
  },
  {
   "cell_type": "code",
   "execution_count": 25,
   "id": "2f924a35-7f0f-415e-b763-c5a2e6eb12ca",
   "metadata": {
    "tags": []
   },
   "outputs": [],
   "source": [
    "api_key = gpt_keys[0]\n",
    "org_key = gpt_keys[1]"
   ]
  },
  {
   "cell_type": "code",
   "execution_count": 26,
   "id": "477a15ef-dd87-4317-8abf-72e1e36ecbb2",
   "metadata": {
    "tags": []
   },
   "outputs": [],
   "source": [
    "client = OpenAI(api_key=api_key, organization=org_key)"
   ]
  },
  {
   "cell_type": "code",
   "execution_count": 27,
   "id": "1b239750-1a81-4235-b6eb-978f1402d9c6",
   "metadata": {},
   "outputs": [
    {
     "name": "stdout",
     "output_type": "stream",
     "text": [
      "Model(id='whisper-1', created=1677532384, object='model', owned_by='openai-internal')\n",
      "Model(id='tts-1', created=1681940951, object='model', owned_by='openai-internal')\n",
      "Model(id='dall-e-2', created=1698798177, object='model', owned_by='system')\n",
      "Model(id='tts-1-hd-1106', created=1699053533, object='model', owned_by='system')\n",
      "Model(id='tts-1-hd', created=1699046015, object='model', owned_by='system')\n",
      "Model(id='gpt-4-turbo-2024-04-09', created=1712601677, object='model', owned_by='system')\n",
      "Model(id='gpt-4-turbo', created=1712361441, object='model', owned_by='system')\n",
      "Model(id='gpt-3.5-turbo-1106', created=1698959748, object='model', owned_by='system')\n",
      "Model(id='dall-e-3', created=1698785189, object='model', owned_by='system')\n",
      "Model(id='gpt-4-0125-preview', created=1706037612, object='model', owned_by='system')\n",
      "Model(id='gpt-4-turbo-preview', created=1706037777, object='model', owned_by='system')\n",
      "Model(id='text-embedding-3-small', created=1705948997, object='model', owned_by='system')\n",
      "Model(id='text-embedding-3-large', created=1705953180, object='model', owned_by='system')\n",
      "Model(id='gpt-3.5-turbo-16k', created=1683758102, object='model', owned_by='openai-internal')\n",
      "Model(id='gpt-4-1106-preview', created=1698957206, object='model', owned_by='system')\n",
      "Model(id='babbage-002', created=1692634615, object='model', owned_by='system')\n",
      "Model(id='gpt-4o-2024-05-13', created=1715368132, object='model', owned_by='system')\n",
      "Model(id='gpt-4', created=1687882411, object='model', owned_by='openai')\n",
      "Model(id='gpt-4-0613', created=1686588896, object='model', owned_by='openai')\n",
      "Model(id='gpt-3.5-turbo-0125', created=1706048358, object='model', owned_by='system')\n",
      "Model(id='tts-1-1106', created=1699053241, object='model', owned_by='system')\n",
      "Model(id='gpt-3.5-turbo', created=1677610602, object='model', owned_by='openai')\n",
      "Model(id='gpt-3.5-turbo-instruct', created=1692901427, object='model', owned_by='system')\n",
      "Model(id='gpt-3.5-turbo-instruct-0914', created=1694122472, object='model', owned_by='system')\n",
      "Model(id='text-embedding-ada-002', created=1671217299, object='model', owned_by='openai-internal')\n",
      "Model(id='davinci-002', created=1692634301, object='model', owned_by='system')\n",
      "Model(id='gpt-4o', created=1715367049, object='model', owned_by='system')\n"
     ]
    }
   ],
   "source": [
    "for model in client.models.list():\n",
    "    print(model)"
   ]
  },
  {
   "cell_type": "code",
   "execution_count": 35,
   "id": "3cb929ac-443e-4b3b-8ac8-1f36e23a178e",
   "metadata": {},
   "outputs": [],
   "source": [
    "def get_gpt_embedding(client, text, model=\"text-embedding-3-small\"):\n",
    "    response = client.embeddings.create(input=[text], model=model)\n",
    "    return response.data[0].embedding"
   ]
  },
  {
   "cell_type": "code",
   "execution_count": 40,
   "id": "1270d288-0a42-44b3-a171-d8acf556c5ce",
   "metadata": {},
   "outputs": [],
   "source": [
    "def process_sequences_in_batches(molecules, batch_size, client, model=\"text-embedding-3-small\"):\n",
    "    embeddings = []\n",
    "    try:\n",
    "        for i in range(0, len(molecules), batch_size):\n",
    "            batch = molecules['Sequence'].iloc[i:i+batch_size]\n",
    "            batch_embeddings = batch.apply(lambda x: get_gpt_embedding(client, x, model=model))\n",
    "            embeddings.extend(batch_embeddings)\n",
    "    except Exception as ex:\n",
    "        print(ex.args)\n",
    "        return embeddings\n",
    "    return embeddings"
   ]
  },
  {
   "cell_type": "code",
   "execution_count": 43,
   "id": "25a68066-5991-4dbe-8184-0644c108b402",
   "metadata": {},
   "outputs": [
    {
     "data": {
      "text/html": [
       "<div>\n",
       "<style scoped>\n",
       "    .dataframe tbody tr th:only-of-type {\n",
       "        vertical-align: middle;\n",
       "    }\n",
       "\n",
       "    .dataframe tbody tr th {\n",
       "        vertical-align: top;\n",
       "    }\n",
       "\n",
       "    .dataframe thead th {\n",
       "        text-align: right;\n",
       "    }\n",
       "</style>\n",
       "<table border=\"1\" class=\"dataframe\">\n",
       "  <thead>\n",
       "    <tr style=\"text-align: right;\">\n",
       "      <th></th>\n",
       "      <th>Sequence</th>\n",
       "    </tr>\n",
       "  </thead>\n",
       "  <tbody>\n",
       "    <tr>\n",
       "      <th>0</th>\n",
       "      <td>MDSRMDQYEVMEQIGRGAFGAAILVNHKTEKKKYVLKKIRLARQTE...</td>\n",
       "    </tr>\n",
       "    <tr>\n",
       "      <th>1</th>\n",
       "      <td>MAPKAEKKPAEKKPAEEKAGEKAPAAGKKPKAEKRLPASKGEKGGE...</td>\n",
       "    </tr>\n",
       "    <tr>\n",
       "      <th>2</th>\n",
       "      <td>MLELHFEFIDLNQPKMYKFVVCLLTLSFLLLSGLSNTALARVHHES...</td>\n",
       "    </tr>\n",
       "  </tbody>\n",
       "</table>\n",
       "</div>"
      ],
      "text/plain": [
       "                                            Sequence\n",
       "0  MDSRMDQYEVMEQIGRGAFGAAILVNHKTEKKKYVLKKIRLARQTE...\n",
       "1  MAPKAEKKPAEKKPAEEKAGEKAPAAGKKPKAEKRLPASKGEKGGE...\n",
       "2  MLELHFEFIDLNQPKMYKFVVCLLTLSFLLLSGLSNTALARVHHES..."
      ]
     },
     "execution_count": 43,
     "metadata": {},
     "output_type": "execute_result"
    }
   ],
   "source": [
    "molecules.iloc[:3, [1]]"
   ]
  },
  {
   "cell_type": "code",
   "execution_count": 41,
   "id": "5891a96a-bfa2-4d9a-a027-30cfd628faf9",
   "metadata": {},
   "outputs": [],
   "source": [
    "batch_size = 2\n",
    "embeddings = process_sequences_in_batches(molecules.iloc[:3, [1]], batch_size, client)"
   ]
  },
  {
   "cell_type": "code",
   "execution_count": 42,
   "id": "190a99a6-1f9a-4531-9037-c2685e7e91b4",
   "metadata": {},
   "outputs": [
    {
     "data": {
      "text/html": [
       "<div>\n",
       "<style scoped>\n",
       "    .dataframe tbody tr th:only-of-type {\n",
       "        vertical-align: middle;\n",
       "    }\n",
       "\n",
       "    .dataframe tbody tr th {\n",
       "        vertical-align: top;\n",
       "    }\n",
       "\n",
       "    .dataframe thead th {\n",
       "        text-align: right;\n",
       "    }\n",
       "</style>\n",
       "<table border=\"1\" class=\"dataframe\">\n",
       "  <thead>\n",
       "    <tr style=\"text-align: right;\">\n",
       "      <th></th>\n",
       "      <th>0</th>\n",
       "      <th>1</th>\n",
       "      <th>2</th>\n",
       "      <th>3</th>\n",
       "      <th>4</th>\n",
       "      <th>5</th>\n",
       "      <th>6</th>\n",
       "      <th>7</th>\n",
       "      <th>8</th>\n",
       "      <th>9</th>\n",
       "      <th>...</th>\n",
       "      <th>1526</th>\n",
       "      <th>1527</th>\n",
       "      <th>1528</th>\n",
       "      <th>1529</th>\n",
       "      <th>1530</th>\n",
       "      <th>1531</th>\n",
       "      <th>1532</th>\n",
       "      <th>1533</th>\n",
       "      <th>1534</th>\n",
       "      <th>1535</th>\n",
       "    </tr>\n",
       "  </thead>\n",
       "  <tbody>\n",
       "    <tr>\n",
       "      <th>0</th>\n",
       "      <td>0.042150</td>\n",
       "      <td>-0.008936</td>\n",
       "      <td>0.017308</td>\n",
       "      <td>0.014519</td>\n",
       "      <td>0.009914</td>\n",
       "      <td>0.033132</td>\n",
       "      <td>0.014831</td>\n",
       "      <td>-0.011494</td>\n",
       "      <td>-0.037107</td>\n",
       "      <td>0.000292</td>\n",
       "      <td>...</td>\n",
       "      <td>-0.024293</td>\n",
       "      <td>-0.029721</td>\n",
       "      <td>-0.061163</td>\n",
       "      <td>0.005347</td>\n",
       "      <td>-0.011709</td>\n",
       "      <td>0.029009</td>\n",
       "      <td>-0.008431</td>\n",
       "      <td>0.016863</td>\n",
       "      <td>0.006470</td>\n",
       "      <td>0.014646</td>\n",
       "    </tr>\n",
       "    <tr>\n",
       "      <th>1</th>\n",
       "      <td>0.025720</td>\n",
       "      <td>-0.014849</td>\n",
       "      <td>0.021008</td>\n",
       "      <td>0.008830</td>\n",
       "      <td>0.004268</td>\n",
       "      <td>0.002514</td>\n",
       "      <td>0.027056</td>\n",
       "      <td>-0.014842</td>\n",
       "      <td>-0.015635</td>\n",
       "      <td>0.020377</td>\n",
       "      <td>...</td>\n",
       "      <td>-0.021977</td>\n",
       "      <td>-0.001784</td>\n",
       "      <td>-0.048916</td>\n",
       "      <td>0.005652</td>\n",
       "      <td>-0.029655</td>\n",
       "      <td>0.034441</td>\n",
       "      <td>0.011025</td>\n",
       "      <td>0.019789</td>\n",
       "      <td>-0.025852</td>\n",
       "      <td>0.016824</td>\n",
       "    </tr>\n",
       "    <tr>\n",
       "      <th>2</th>\n",
       "      <td>0.021083</td>\n",
       "      <td>-0.009498</td>\n",
       "      <td>0.034506</td>\n",
       "      <td>0.021068</td>\n",
       "      <td>0.008089</td>\n",
       "      <td>0.014645</td>\n",
       "      <td>0.024011</td>\n",
       "      <td>0.026144</td>\n",
       "      <td>-0.032419</td>\n",
       "      <td>0.009428</td>\n",
       "      <td>...</td>\n",
       "      <td>-0.017471</td>\n",
       "      <td>-0.012192</td>\n",
       "      <td>-0.030083</td>\n",
       "      <td>0.004212</td>\n",
       "      <td>-0.015197</td>\n",
       "      <td>-0.000833</td>\n",
       "      <td>0.007334</td>\n",
       "      <td>-0.004959</td>\n",
       "      <td>-0.007283</td>\n",
       "      <td>0.041077</td>\n",
       "    </tr>\n",
       "  </tbody>\n",
       "</table>\n",
       "<p>3 rows × 1536 columns</p>\n",
       "</div>"
      ],
      "text/plain": [
       "       0         1         2         3         4         5         6     \\\n",
       "0  0.042150 -0.008936  0.017308  0.014519  0.009914  0.033132  0.014831   \n",
       "1  0.025720 -0.014849  0.021008  0.008830  0.004268  0.002514  0.027056   \n",
       "2  0.021083 -0.009498  0.034506  0.021068  0.008089  0.014645  0.024011   \n",
       "\n",
       "       7         8         9     ...      1526      1527      1528      1529  \\\n",
       "0 -0.011494 -0.037107  0.000292  ... -0.024293 -0.029721 -0.061163  0.005347   \n",
       "1 -0.014842 -0.015635  0.020377  ... -0.021977 -0.001784 -0.048916  0.005652   \n",
       "2  0.026144 -0.032419  0.009428  ... -0.017471 -0.012192 -0.030083  0.004212   \n",
       "\n",
       "       1530      1531      1532      1533      1534      1535  \n",
       "0 -0.011709  0.029009 -0.008431  0.016863  0.006470  0.014646  \n",
       "1 -0.029655  0.034441  0.011025  0.019789 -0.025852  0.016824  \n",
       "2 -0.015197 -0.000833  0.007334 -0.004959 -0.007283  0.041077  \n",
       "\n",
       "[3 rows x 1536 columns]"
      ]
     },
     "execution_count": 42,
     "metadata": {},
     "output_type": "execute_result"
    }
   ],
   "source": [
    "pd.DataFrame(embeddings)"
   ]
  },
  {
   "cell_type": "code",
   "execution_count": null,
   "id": "403a152e-fc6b-41bc-99c9-7fbf5e12e46d",
   "metadata": {},
   "outputs": [],
   "source": []
  },
  {
   "cell_type": "code",
   "execution_count": null,
   "id": "57c7c558-e948-4420-9da2-9d7f003a3543",
   "metadata": {},
   "outputs": [],
   "source": []
  },
  {
   "cell_type": "code",
   "execution_count": null,
   "id": "0986f05f-f64d-4bb3-ba9b-315e5bae1a92",
   "metadata": {},
   "outputs": [],
   "source": []
  },
  {
   "cell_type": "code",
   "execution_count": null,
   "id": "d9f587d3-ce27-4334-b2c8-1d262a52bc6e",
   "metadata": {},
   "outputs": [],
   "source": []
  },
  {
   "cell_type": "code",
   "execution_count": null,
   "id": "f53a0573-7678-4832-951d-b18781c0325c",
   "metadata": {},
   "outputs": [],
   "source": []
  }
 ],
 "metadata": {
  "kernelspec": {
   "display_name": "Python 3 (ipykernel)",
   "language": "python",
   "name": "python3"
  },
  "language_info": {
   "codemirror_mode": {
    "name": "ipython",
    "version": 3
   },
   "file_extension": ".py",
   "mimetype": "text/x-python",
   "name": "python",
   "nbconvert_exporter": "python",
   "pygments_lexer": "ipython3",
   "version": "3.10.12"
  }
 },
 "nbformat": 4,
 "nbformat_minor": 5
}
