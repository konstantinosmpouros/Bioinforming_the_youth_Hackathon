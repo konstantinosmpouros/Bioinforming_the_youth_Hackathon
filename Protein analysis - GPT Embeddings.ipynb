{
 "cells": [
  {
   "cell_type": "markdown",
   "id": "be5a13b8-5bc4-4254-bd2a-ba73bb45fbff",
   "metadata": {},
   "source": [
    "# Resistance plant gene prediction - GPT Embeddings\n",
    "---"
   ]
  },
  {
   "cell_type": "markdown",
   "id": "e021e657-a839-4f1d-92d5-eb877525bca1",
   "metadata": {},
   "source": [
    "## Libraries"
   ]
  },
  {
   "cell_type": "code",
   "execution_count": 1,
   "id": "0f22b75a-2636-447b-a9ff-997e338da711",
   "metadata": {
    "tags": []
   },
   "outputs": [],
   "source": [
    "# Data manipulation\n",
    "import pandas as pd\n",
    "\n",
    "# Request for GPT embeddings\n",
    "from openai import OpenAI"
   ]
  },
  {
   "cell_type": "markdown",
   "id": "740a58f3-138c-496b-a9a7-f26c3e0dd391",
   "metadata": {
    "jp-MarkdownHeadingCollapsed": true,
    "tags": []
   },
   "source": [
    "## Data loading"
   ]
  },
  {
   "cell_type": "code",
   "execution_count": 2,
   "id": "73e76a5e-fa06-4d7c-80c0-426fa6eec4dc",
   "metadata": {
    "tags": [],
    "vscode": {
     "languageId": "plaintext"
    }
   },
   "outputs": [],
   "source": [
    "molecules = pd.read_csv('Data/train.csv')"
   ]
  },
  {
   "cell_type": "code",
   "execution_count": 3,
   "id": "85f3f914-eda4-438b-a296-3f63a5f89fc0",
   "metadata": {
    "tags": [],
    "vscode": {
     "languageId": "plaintext"
    }
   },
   "outputs": [
    {
     "data": {
      "text/html": [
       "<div>\n",
       "<style scoped>\n",
       "    .dataframe tbody tr th:only-of-type {\n",
       "        vertical-align: middle;\n",
       "    }\n",
       "\n",
       "    .dataframe tbody tr th {\n",
       "        vertical-align: top;\n",
       "    }\n",
       "\n",
       "    .dataframe thead th {\n",
       "        text-align: right;\n",
       "    }\n",
       "</style>\n",
       "<table border=\"1\" class=\"dataframe\">\n",
       "  <thead>\n",
       "    <tr style=\"text-align: right;\">\n",
       "      <th></th>\n",
       "      <th>ID</th>\n",
       "      <th>Sequence</th>\n",
       "      <th>Label</th>\n",
       "    </tr>\n",
       "  </thead>\n",
       "  <tbody>\n",
       "    <tr>\n",
       "      <th>7852</th>\n",
       "      <td>10503</td>\n",
       "      <td>MTKQKQYVSDVNLTVCGSNKPSSTPGKDIEYFGLIPVDLFISNILS...</td>\n",
       "      <td>0</td>\n",
       "    </tr>\n",
       "    <tr>\n",
       "      <th>8443</th>\n",
       "      <td>11305</td>\n",
       "      <td>MSEEVPQQFPSSKRQLHPSLSSMKPPLVAPGEYHRFDAAETRGGGA...</td>\n",
       "      <td>0</td>\n",
       "    </tr>\n",
       "    <tr>\n",
       "      <th>4884</th>\n",
       "      <td>6515</td>\n",
       "      <td>MAQISSMAQGIQTLSLNSSNLSKTQKGPLVSNSLFFGSKKLTQISA...</td>\n",
       "      <td>0</td>\n",
       "    </tr>\n",
       "    <tr>\n",
       "      <th>1348</th>\n",
       "      <td>1794</td>\n",
       "      <td>MNLGFLVGVFGVLILSHAAYSTIQYRGLLKIMEEEFSRPPINVILE...</td>\n",
       "      <td>0</td>\n",
       "    </tr>\n",
       "    <tr>\n",
       "      <th>1568</th>\n",
       "      <td>2105</td>\n",
       "      <td>MGRGRAPCCAKVGLNRGSWTPQEDMRLIAYIQKHGHTNWRALPKQA...</td>\n",
       "      <td>0</td>\n",
       "    </tr>\n",
       "    <tr>\n",
       "      <th>8661</th>\n",
       "      <td>11593</td>\n",
       "      <td>MNPSNNPKKTRHQSHMPQERDETKKEKKLLHRNIERQRRQEMAILF...</td>\n",
       "      <td>0</td>\n",
       "    </tr>\n",
       "  </tbody>\n",
       "</table>\n",
       "</div>"
      ],
      "text/plain": [
       "         ID                                           Sequence  Label\n",
       "7852  10503  MTKQKQYVSDVNLTVCGSNKPSSTPGKDIEYFGLIPVDLFISNILS...      0\n",
       "8443  11305  MSEEVPQQFPSSKRQLHPSLSSMKPPLVAPGEYHRFDAAETRGGGA...      0\n",
       "4884   6515  MAQISSMAQGIQTLSLNSSNLSKTQKGPLVSNSLFFGSKKLTQISA...      0\n",
       "1348   1794  MNLGFLVGVFGVLILSHAAYSTIQYRGLLKIMEEEFSRPPINVILE...      0\n",
       "1568   2105  MGRGRAPCCAKVGLNRGSWTPQEDMRLIAYIQKHGHTNWRALPKQA...      0\n",
       "8661  11593  MNPSNNPKKTRHQSHMPQERDETKKEKKLLHRNIERQRRQEMAILF...      0"
      ]
     },
     "execution_count": 3,
     "metadata": {},
     "output_type": "execute_result"
    }
   ],
   "source": [
    "molecules.sample(6)"
   ]
  },
  {
   "cell_type": "code",
   "execution_count": 4,
   "id": "b3d3ff32-9641-45d0-884e-5546287bf35c",
   "metadata": {
    "tags": []
   },
   "outputs": [
    {
     "data": {
      "text/plain": [
       "'MDSRMDQYEVMEQIGRGAFGAAILVNHKTEKKKYVLKKIRLARQTERCRKSAHQEMALIARLQHPYIVEFKEAWVEKGCYVCIVTGYCEGGDMAELMKKANGTYFPEEKLLKWFAQLALAVDYLHSNFVLHRDLKCSNIFLTKDQDIRLGDFGLAKTLKADDLTSSVVGTPNYMCPELLADIPYGFKSDIWSLGCCMYEMAAHRPAFKAFDMAGLISKINRSSIGPLPPCYSPSMKSLIKSMLRKSPEHRPTASEILKSPYLQPYVNQYRPFADISHPIHSLEKPITSSRSSQKSMSGSQCSSISGSDIDSIQSSERNTSGPSTSSNNTIDTEGAEATDHVSVKNCSRSDDVKSNKETVGPELERQDSSKSIHVDQRPRNEIKQPKIIKKILTTLREESKLRQNNSPIRASRVKLNSPSNREQLSDDSKHSSDISSSSKSSEVTSRESAKVICEPVKRAQASPPLKHLSPIVEHSPKAKIKQDEPLQPDPAKQAMEDVDAAVGKVKNRTPPSYSRRLSIPPRRPLGAESPLHADTKRAHNKVIKERAKSPCRPVHGPDNDIIEPPGFPMAPPSPLGGVQMKVGNARAKSAPPRAVSIKEDSSDCSSSTIAYAENTELSEPSKQDSSAQLVSSCKCSIPDAAIQKHDLTAMPSSELNTTNFQKSMASNDDVCENLALEPSSDISEQVSIFKDNVPCSKISQSTANAIVQNDEDKFTVQELLSSVADIAPFVSTKNFALEKGSPPIQSLERTSSPHLNPPIEDVIHVIRHSSFRVCGEQAVAENAEMGVQSSDVGKLLNVVREEVDSRSIPSNNLVPHRLPDCAAPKPNISETNTISSKTACSDVVKFLTVPEVNSTTTAINNGFKEEASPTKEILDVKSFRQRAEALEGLLELSADLLQHNRLEELAVVLKPFGKDKVSPRETAIWLAKSFKGMMNDEASRSSM'"
      ]
     },
     "execution_count": 4,
     "metadata": {},
     "output_type": "execute_result"
    }
   ],
   "source": [
    "molecules.iloc[0, 1]"
   ]
  },
  {
   "cell_type": "markdown",
   "id": "0b22fbc1-a437-4e93-8fc9-9b22fde27788",
   "metadata": {
    "tags": []
   },
   "source": [
    "## ChatGPT embeddings"
   ]
  },
  {
   "cell_type": "code",
   "execution_count": 5,
   "id": "d8504e55-e11f-49f9-98b8-2d64ddfd7531",
   "metadata": {},
   "outputs": [],
   "source": [
    "# gpt_keys = pd.read_csv('../ChatGPT API Keys.txt').columns"
   ]
  },
  {
   "cell_type": "code",
   "execution_count": 6,
   "id": "2f924a35-7f0f-415e-b763-c5a2e6eb12ca",
   "metadata": {
    "tags": []
   },
   "outputs": [],
   "source": [
    "# api_key = gpt_keys[0]\n",
    "# org_key = gpt_keys[1]"
   ]
  },
  {
   "cell_type": "code",
   "execution_count": 7,
   "id": "477a15ef-dd87-4317-8abf-72e1e36ecbb2",
   "metadata": {
    "tags": []
   },
   "outputs": [],
   "source": [
    "# client = OpenAI(api_key=api_key, organization=org_key)"
   ]
  },
  {
   "cell_type": "code",
   "execution_count": 8,
   "id": "d72b1833-d7c0-4cba-9d03-043423df48b3",
   "metadata": {},
   "outputs": [],
   "source": [
    "# def get_gpt_embedding(client, text, model=\"text-embedding-3-small\"):\n",
    "#    return client.embeddings.create(input = [text], model=model).data[0].embedding"
   ]
  },
  {
   "cell_type": "code",
   "execution_count": 9,
   "id": "0b72bf1b-f5c9-4717-ace0-f5637e894b33",
   "metadata": {},
   "outputs": [],
   "source": [
    "# molecules['GPT_embeddings'] = molecules['Sequence'].apply(lambda x: get_gpt_embedding(client, x))"
   ]
  },
  {
   "cell_type": "code",
   "execution_count": 10,
   "id": "834f3c55-8fcb-46b4-879a-3d280f845c87",
   "metadata": {},
   "outputs": [],
   "source": [
    "# molecules.to_csv('Embeddings/molecules_gpt_embeddings.csv')"
   ]
  }
 ],
 "metadata": {
  "kernelspec": {
   "display_name": "Python 3 (ipykernel)",
   "language": "python",
   "name": "python3"
  },
  "language_info": {
   "codemirror_mode": {
    "name": "ipython",
    "version": 3
   },
   "file_extension": ".py",
   "mimetype": "text/x-python",
   "name": "python",
   "nbconvert_exporter": "python",
   "pygments_lexer": "ipython3",
   "version": "3.10.11"
  }
 },
 "nbformat": 4,
 "nbformat_minor": 5
}
