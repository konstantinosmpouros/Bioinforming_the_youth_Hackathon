{
 "cells": [
  {
   "cell_type": "markdown",
   "id": "32627f4d-43c4-4392-bab5-6b4c3acb2fc4",
   "metadata": {
    "tags": []
   },
   "source": [
    "# Resistance plant gene prediction"
   ]
  },
  {
   "cell_type": "markdown",
   "id": "6971a1f3",
   "metadata": {},
   "source": [
    "**<span style=\"font-size:22px;\">About the project</span>**\n",
    "\n",
    "This analysis is part of my thesis with topic **Deep learning and LLMs revolutionize the drug development**. The project is focused on bioinformatics and aims to contribute valuable insights into the field of plant genetics and enhance our understanding of resistance patterns. The knowledge of plant gene resistance can be beneficial in several fields and applications beyond just agricultural improvement. Areas where this knowledge can have a significant impact rather than agricultural are also the drug discovery and development where discovering new medicinal properties and compounds in resistant plants, could lead to the development of new drugs and treatments for various diseases."
   ]
  },
  {
   "cell_type": "markdown",
   "id": "df2fd42f-8504-4617-b1cb-01d6bc4fd075",
   "metadata": {
    "vscode": {
     "languageId": "plaintext"
    }
   },
   "source": [
    "**<span style=\"font-size:22px;\">Dataset</span>**\n",
    "\n",
    "The dataset is provided as part of the [Bioinformatics Hackathon on Kaggle](https://www.kaggle.com/competitions/bioinformatics-hackathon-prg/overview). It includes various genetic sequences from plants, with labels indicating resistance."
   ]
  },
  {
   "cell_type": "markdown",
   "id": "25bd40cb-7a0a-4867-92b2-8d3dc1209e13",
   "metadata": {
    "vscode": {
     "languageId": "plaintext"
    }
   },
   "source": [
    "**<span style=\"font-size:22px;\">Objective of the project</span>**\n",
    "\n",
    "1. Main objective is to develop predictive models that can accurately determine whether certain plant genes are resistant to specific conditions or not. The model that we will build is a Transformer model that can have several advantages rather than other mondel. The core advantage of transformers is the attention mechanism, which allows the model to focus on different parts of the input sequence that are more relevant for making predictions. In the context of gene sequences, this means a transformer can learn to pay more attention to specific gene markers or motifs that indicate resistance\n",
    "\n",
    "2. Secondary objective is "
   ]
  },
  {
   "cell_type": "markdown",
   "id": "9b971e7b-9d8f-4fc2-99d4-af8b05ea1353",
   "metadata": {
    "jp-MarkdownHeadingCollapsed": true,
    "tags": [],
    "vscode": {
     "languageId": "plaintext"
    }
   },
   "source": [
    "## Libraries"
   ]
  },
  {
   "cell_type": "code",
   "execution_count": 1,
   "id": "a10dd279",
   "metadata": {
    "tags": [],
    "vscode": {
     "languageId": "plaintext"
    }
   },
   "outputs": [],
   "source": [
    "# Data manipulation\n",
    "import pandas as pd\n",
    "import numpy as np\n",
    "from collections import Counter\n",
    "\n",
    "# Data visualization\n",
    "import seaborn as sns\n",
    "import matplotlib.pyplot as plt\n",
    "\n",
    "\n",
    "# Parameters \n",
    "pd.set_option('display.max_columns', None)\n",
    "sns.set_style('darkgrid')"
   ]
  },
  {
   "cell_type": "markdown",
   "id": "51495db3-6c5d-4eb2-85d9-8c3d8630ffed",
   "metadata": {
    "jp-MarkdownHeadingCollapsed": true,
    "tags": [],
    "vscode": {
     "languageId": "plaintext"
    }
   },
   "source": [
    "## Data Loading"
   ]
  },
  {
   "cell_type": "code",
   "execution_count": 2,
   "id": "6e0e4f42",
   "metadata": {
    "tags": [],
    "vscode": {
     "languageId": "plaintext"
    }
   },
   "outputs": [],
   "source": [
    "molecules = pd.read_csv('Data/train.csv')"
   ]
  },
  {
   "cell_type": "code",
   "execution_count": 3,
   "id": "814ff0cc",
   "metadata": {
    "tags": [],
    "vscode": {
     "languageId": "plaintext"
    }
   },
   "outputs": [
    {
     "data": {
      "text/html": [
       "<div>\n",
       "<style scoped>\n",
       "    .dataframe tbody tr th:only-of-type {\n",
       "        vertical-align: middle;\n",
       "    }\n",
       "\n",
       "    .dataframe tbody tr th {\n",
       "        vertical-align: top;\n",
       "    }\n",
       "\n",
       "    .dataframe thead th {\n",
       "        text-align: right;\n",
       "    }\n",
       "</style>\n",
       "<table border=\"1\" class=\"dataframe\">\n",
       "  <thead>\n",
       "    <tr style=\"text-align: right;\">\n",
       "      <th></th>\n",
       "      <th>ID</th>\n",
       "      <th>Sequence</th>\n",
       "      <th>Label</th>\n",
       "    </tr>\n",
       "  </thead>\n",
       "  <tbody>\n",
       "    <tr>\n",
       "      <th>6166</th>\n",
       "      <td>8256</td>\n",
       "      <td>MASTPRTPAPVRSPPPVPTPTHPTPPPPPLETPQPPLPVSTPPPAL...</td>\n",
       "      <td>0</td>\n",
       "    </tr>\n",
       "    <tr>\n",
       "      <th>13808</th>\n",
       "      <td>18425</td>\n",
       "      <td>MQVVVLKLDVHCEKTKQKAMSTVCCLSGVNSVEVKDGKLTVTGEID...</td>\n",
       "      <td>0</td>\n",
       "    </tr>\n",
       "    <tr>\n",
       "      <th>7146</th>\n",
       "      <td>9554</td>\n",
       "      <td>MPLSNNVIGCINFITVLLSIPVIGAGIWLAIGTVNSCVKLLQWPVI...</td>\n",
       "      <td>0</td>\n",
       "    </tr>\n",
       "    <tr>\n",
       "      <th>11635</th>\n",
       "      <td>15558</td>\n",
       "      <td>MAGAMTMSRRRLSHALLLVLAILPNLAALAVAAGGGSGGGGFFPHR...</td>\n",
       "      <td>0</td>\n",
       "    </tr>\n",
       "    <tr>\n",
       "      <th>468</th>\n",
       "      <td>651</td>\n",
       "      <td>MLDYEWDNPSSIVLSGDERNPDSDPTRSSFSFFDPISHYNNDHRHI...</td>\n",
       "      <td>0</td>\n",
       "    </tr>\n",
       "    <tr>\n",
       "      <th>12380</th>\n",
       "      <td>16534</td>\n",
       "      <td>MARSNVPKFGNWEAEENVPYTAYFDKARKTRAPGSKIMNPNDPEYN...</td>\n",
       "      <td>1</td>\n",
       "    </tr>\n",
       "  </tbody>\n",
       "</table>\n",
       "</div>"
      ],
      "text/plain": [
       "          ID                                           Sequence  Label\n",
       "6166    8256  MASTPRTPAPVRSPPPVPTPTHPTPPPPPLETPQPPLPVSTPPPAL...      0\n",
       "13808  18425  MQVVVLKLDVHCEKTKQKAMSTVCCLSGVNSVEVKDGKLTVTGEID...      0\n",
       "7146    9554  MPLSNNVIGCINFITVLLSIPVIGAGIWLAIGTVNSCVKLLQWPVI...      0\n",
       "11635  15558  MAGAMTMSRRRLSHALLLVLAILPNLAALAVAAGGGSGGGGFFPHR...      0\n",
       "468      651  MLDYEWDNPSSIVLSGDERNPDSDPTRSSFSFFDPISHYNNDHRHI...      0\n",
       "12380  16534  MARSNVPKFGNWEAEENVPYTAYFDKARKTRAPGSKIMNPNDPEYN...      1"
      ]
     },
     "execution_count": 3,
     "metadata": {},
     "output_type": "execute_result"
    }
   ],
   "source": [
    "molecules.sample(6)"
   ]
  },
  {
   "cell_type": "code",
   "execution_count": 4,
   "id": "8a0d6a67-9dba-4bb3-a49e-6abc28f03907",
   "metadata": {
    "tags": []
   },
   "outputs": [
    {
     "data": {
      "text/plain": [
       "'MDSRMDQYEVMEQIGRGAFGAAILVNHKTEKKKYVLKKIRLARQTERCRKSAHQEMALIARLQHPYIVEFKEAWVEKGCYVCIVTGYCEGGDMAELMKKANGTYFPEEKLLKWFAQLALAVDYLHSNFVLHRDLKCSNIFLTKDQDIRLGDFGLAKTLKADDLTSSVVGTPNYMCPELLADIPYGFKSDIWSLGCCMYEMAAHRPAFKAFDMAGLISKINRSSIGPLPPCYSPSMKSLIKSMLRKSPEHRPTASEILKSPYLQPYVNQYRPFADISHPIHSLEKPITSSRSSQKSMSGSQCSSISGSDIDSIQSSERNTSGPSTSSNNTIDTEGAEATDHVSVKNCSRSDDVKSNKETVGPELERQDSSKSIHVDQRPRNEIKQPKIIKKILTTLREESKLRQNNSPIRASRVKLNSPSNREQLSDDSKHSSDISSSSKSSEVTSRESAKVICEPVKRAQASPPLKHLSPIVEHSPKAKIKQDEPLQPDPAKQAMEDVDAAVGKVKNRTPPSYSRRLSIPPRRPLGAESPLHADTKRAHNKVIKERAKSPCRPVHGPDNDIIEPPGFPMAPPSPLGGVQMKVGNARAKSAPPRAVSIKEDSSDCSSSTIAYAENTELSEPSKQDSSAQLVSSCKCSIPDAAIQKHDLTAMPSSELNTTNFQKSMASNDDVCENLALEPSSDISEQVSIFKDNVPCSKISQSTANAIVQNDEDKFTVQELLSSVADIAPFVSTKNFALEKGSPPIQSLERTSSPHLNPPIEDVIHVIRHSSFRVCGEQAVAENAEMGVQSSDVGKLLNVVREEVDSRSIPSNNLVPHRLPDCAAPKPNISETNTISSKTACSDVVKFLTVPEVNSTTTAINNGFKEEASPTKEILDVKSFRQRAEALEGLLELSADLLQHNRLEELAVVLKPFGKDKVSPRETAIWLAKSFKGMMNDEASRSSM'"
      ]
     },
     "execution_count": 4,
     "metadata": {},
     "output_type": "execute_result"
    }
   ],
   "source": [
    "molecules.iloc[0, 1]"
   ]
  },
  {
   "cell_type": "markdown",
   "id": "bcbadb67-8d95-4fba-9f7d-84249d00f1b3",
   "metadata": {
    "tags": []
   },
   "source": [
    "## Exploratory data analysis (EDA)"
   ]
  },
  {
   "cell_type": "code",
   "execution_count": 5,
   "id": "5ec2b03c-dc3d-4de4-8c17-fc92e68873da",
   "metadata": {
    "tags": []
   },
   "outputs": [
    {
     "data": {
      "text/html": [
       "<div>\n",
       "<style scoped>\n",
       "    .dataframe tbody tr th:only-of-type {\n",
       "        vertical-align: middle;\n",
       "    }\n",
       "\n",
       "    .dataframe tbody tr th {\n",
       "        vertical-align: top;\n",
       "    }\n",
       "\n",
       "    .dataframe thead th {\n",
       "        text-align: right;\n",
       "    }\n",
       "</style>\n",
       "<table border=\"1\" class=\"dataframe\">\n",
       "  <thead>\n",
       "    <tr style=\"text-align: right;\">\n",
       "      <th></th>\n",
       "      <th>ID</th>\n",
       "      <th>Label</th>\n",
       "    </tr>\n",
       "  </thead>\n",
       "  <tbody>\n",
       "    <tr>\n",
       "      <th>count</th>\n",
       "      <td>14161.000000</td>\n",
       "      <td>14161.000000</td>\n",
       "    </tr>\n",
       "    <tr>\n",
       "      <th>mean</th>\n",
       "      <td>9469.114116</td>\n",
       "      <td>0.089965</td>\n",
       "    </tr>\n",
       "    <tr>\n",
       "      <th>std</th>\n",
       "      <td>5461.636271</td>\n",
       "      <td>0.286142</td>\n",
       "    </tr>\n",
       "    <tr>\n",
       "      <th>min</th>\n",
       "      <td>0.000000</td>\n",
       "      <td>0.000000</td>\n",
       "    </tr>\n",
       "    <tr>\n",
       "      <th>25%</th>\n",
       "      <td>4732.000000</td>\n",
       "      <td>0.000000</td>\n",
       "    </tr>\n",
       "    <tr>\n",
       "      <th>50%</th>\n",
       "      <td>9471.000000</td>\n",
       "      <td>0.000000</td>\n",
       "    </tr>\n",
       "    <tr>\n",
       "      <th>75%</th>\n",
       "      <td>14222.000000</td>\n",
       "      <td>0.000000</td>\n",
       "    </tr>\n",
       "    <tr>\n",
       "      <th>max</th>\n",
       "      <td>18881.000000</td>\n",
       "      <td>1.000000</td>\n",
       "    </tr>\n",
       "  </tbody>\n",
       "</table>\n",
       "</div>"
      ],
      "text/plain": [
       "                 ID         Label\n",
       "count  14161.000000  14161.000000\n",
       "mean    9469.114116      0.089965\n",
       "std     5461.636271      0.286142\n",
       "min        0.000000      0.000000\n",
       "25%     4732.000000      0.000000\n",
       "50%     9471.000000      0.000000\n",
       "75%    14222.000000      0.000000\n",
       "max    18881.000000      1.000000"
      ]
     },
     "execution_count": 5,
     "metadata": {},
     "output_type": "execute_result"
    }
   ],
   "source": [
    "molecules.describe()"
   ]
  },
  {
   "cell_type": "code",
   "execution_count": 6,
   "id": "de79a6ff-1816-4d93-a5ea-9fb1c66763b8",
   "metadata": {
    "tags": []
   },
   "outputs": [
    {
     "name": "stdout",
     "output_type": "stream",
     "text": [
      "<class 'pandas.core.frame.DataFrame'>\n",
      "RangeIndex: 14161 entries, 0 to 14160\n",
      "Data columns (total 3 columns):\n",
      " #   Column    Non-Null Count  Dtype \n",
      "---  ------    --------------  ----- \n",
      " 0   ID        14161 non-null  int64 \n",
      " 1   Sequence  14161 non-null  object\n",
      " 2   Label     14161 non-null  int64 \n",
      "dtypes: int64(2), object(1)\n",
      "memory usage: 332.0+ KB\n"
     ]
    }
   ],
   "source": [
    "molecules.info()"
   ]
  },
  {
   "cell_type": "code",
   "execution_count": 7,
   "id": "5473d257-4693-4ec9-9161-f47f4093b142",
   "metadata": {
    "tags": []
   },
   "outputs": [
    {
     "data": {
      "text/plain": [
       "ID          0\n",
       "Sequence    0\n",
       "Label       0\n",
       "dtype: int64"
      ]
     },
     "execution_count": 7,
     "metadata": {},
     "output_type": "execute_result"
    }
   ],
   "source": [
    "molecules.isna().sum()"
   ]
  },
  {
   "cell_type": "code",
   "execution_count": 8,
   "id": "f515fd73-a8da-4701-aeb5-93e357470032",
   "metadata": {
    "tags": []
   },
   "outputs": [],
   "source": [
    "aminos = []\n",
    "for sequence in molecules.Sequence:\n",
    "    amino_counter = Counter(sequence)\n",
    "    aminos.append([len(amino_counter), amino_counter])"
   ]
  },
  {
   "cell_type": "code",
   "execution_count": 9,
   "id": "38630b13-55d6-41c7-adb6-756129d2ba8f",
   "metadata": {
    "tags": []
   },
   "outputs": [
    {
     "data": {
      "text/plain": [
       "[[20,\n",
       "  Counter({'S': 123,\n",
       "           'K': 75,\n",
       "           'A': 71,\n",
       "           'L': 68,\n",
       "           'P': 68,\n",
       "           'E': 66,\n",
       "           'V': 56,\n",
       "           'I': 55,\n",
       "           'D': 53,\n",
       "           'R': 48,\n",
       "           'N': 42,\n",
       "           'T': 39,\n",
       "           'Q': 35,\n",
       "           'G': 35,\n",
       "           'F': 23,\n",
       "           'H': 23,\n",
       "           'M': 22,\n",
       "           'C': 21,\n",
       "           'Y': 16,\n",
       "           'W': 4})],\n",
       " [18,\n",
       "  Counter({'K': 30,\n",
       "           'A': 19,\n",
       "           'E': 15,\n",
       "           'G': 11,\n",
       "           'S': 11,\n",
       "           'P': 9,\n",
       "           'I': 9,\n",
       "           'L': 7,\n",
       "           'V': 7,\n",
       "           'T': 7,\n",
       "           'R': 6,\n",
       "           'F': 4,\n",
       "           'M': 3,\n",
       "           'Y': 3,\n",
       "           'N': 3,\n",
       "           'Q': 2,\n",
       "           'H': 2,\n",
       "           'D': 2})]]"
      ]
     },
     "execution_count": 9,
     "metadata": {},
     "output_type": "execute_result"
    }
   ],
   "source": [
    "aminos[:2]"
   ]
  },
  {
   "cell_type": "code",
   "execution_count": 10,
   "id": "5a5c8f70-3fe8-4c69-8892-9753d5955db8",
   "metadata": {
    "tags": []
   },
   "outputs": [
    {
     "data": {
      "image/png": "[encoded data removed]",
      "text/plain": [
       "<Figure size 640x480 with 1 Axes>"
      ]
     },
     "metadata": {},
     "output_type": "display_data"
    }
   ],
   "source": [
    "sns.histplot([row[0] for row in aminos])\n",
    "\n",
    "plt.title('Frequence of unique aminos number per sequence', fontsize=14)\n",
    "plt.ylabel(None)\n",
    "plt.savefig('Figures/No_unique_aminos_per_sequence.png')\n",
    "plt.show()"
   ]
  },
  {
   "cell_type": "code",
   "execution_count": 11,
   "id": "a1c635a6-6e8b-45af-8541-5057203a68b3",
   "metadata": {
    "tags": []
   },
   "outputs": [
    {
     "data": {
      "text/html": [
       "<div>\n",
       "<style scoped>\n",
       "    .dataframe tbody tr th:only-of-type {\n",
       "        vertical-align: middle;\n",
       "    }\n",
       "\n",
       "    .dataframe tbody tr th {\n",
       "        vertical-align: top;\n",
       "    }\n",
       "\n",
       "    .dataframe thead th {\n",
       "        text-align: right;\n",
       "    }\n",
       "</style>\n",
       "<table border=\"1\" class=\"dataframe\">\n",
       "  <thead>\n",
       "    <tr style=\"text-align: right;\">\n",
       "      <th></th>\n",
       "      <th>M</th>\n",
       "      <th>D</th>\n",
       "      <th>S</th>\n",
       "      <th>R</th>\n",
       "      <th>Q</th>\n",
       "      <th>Y</th>\n",
       "      <th>E</th>\n",
       "      <th>V</th>\n",
       "      <th>I</th>\n",
       "      <th>G</th>\n",
       "      <th>A</th>\n",
       "      <th>F</th>\n",
       "      <th>L</th>\n",
       "      <th>N</th>\n",
       "      <th>H</th>\n",
       "      <th>K</th>\n",
       "      <th>T</th>\n",
       "      <th>C</th>\n",
       "      <th>P</th>\n",
       "      <th>W</th>\n",
       "      <th>X</th>\n",
       "      <th>Z</th>\n",
       "      <th>B</th>\n",
       "    </tr>\n",
       "  </thead>\n",
       "  <tbody>\n",
       "    <tr>\n",
       "      <th>0</th>\n",
       "      <td>22</td>\n",
       "      <td>53</td>\n",
       "      <td>123</td>\n",
       "      <td>48</td>\n",
       "      <td>35</td>\n",
       "      <td>16</td>\n",
       "      <td>66</td>\n",
       "      <td>56</td>\n",
       "      <td>55</td>\n",
       "      <td>35</td>\n",
       "      <td>71</td>\n",
       "      <td>23</td>\n",
       "      <td>68</td>\n",
       "      <td>42</td>\n",
       "      <td>23</td>\n",
       "      <td>75</td>\n",
       "      <td>39</td>\n",
       "      <td>21</td>\n",
       "      <td>68</td>\n",
       "      <td>4</td>\n",
       "      <td>0</td>\n",
       "      <td>0</td>\n",
       "      <td>0</td>\n",
       "    </tr>\n",
       "    <tr>\n",
       "      <th>1</th>\n",
       "      <td>3</td>\n",
       "      <td>2</td>\n",
       "      <td>11</td>\n",
       "      <td>6</td>\n",
       "      <td>2</td>\n",
       "      <td>3</td>\n",
       "      <td>15</td>\n",
       "      <td>7</td>\n",
       "      <td>9</td>\n",
       "      <td>11</td>\n",
       "      <td>19</td>\n",
       "      <td>4</td>\n",
       "      <td>7</td>\n",
       "      <td>3</td>\n",
       "      <td>2</td>\n",
       "      <td>30</td>\n",
       "      <td>7</td>\n",
       "      <td>0</td>\n",
       "      <td>9</td>\n",
       "      <td>0</td>\n",
       "      <td>0</td>\n",
       "      <td>0</td>\n",
       "      <td>0</td>\n",
       "    </tr>\n",
       "    <tr>\n",
       "      <th>2</th>\n",
       "      <td>2</td>\n",
       "      <td>2</td>\n",
       "      <td>7</td>\n",
       "      <td>5</td>\n",
       "      <td>3</td>\n",
       "      <td>1</td>\n",
       "      <td>3</td>\n",
       "      <td>7</td>\n",
       "      <td>3</td>\n",
       "      <td>5</td>\n",
       "      <td>3</td>\n",
       "      <td>5</td>\n",
       "      <td>12</td>\n",
       "      <td>6</td>\n",
       "      <td>3</td>\n",
       "      <td>5</td>\n",
       "      <td>3</td>\n",
       "      <td>1</td>\n",
       "      <td>4</td>\n",
       "      <td>1</td>\n",
       "      <td>0</td>\n",
       "      <td>0</td>\n",
       "      <td>0</td>\n",
       "    </tr>\n",
       "    <tr>\n",
       "      <th>3</th>\n",
       "      <td>10</td>\n",
       "      <td>9</td>\n",
       "      <td>27</td>\n",
       "      <td>6</td>\n",
       "      <td>13</td>\n",
       "      <td>15</td>\n",
       "      <td>12</td>\n",
       "      <td>31</td>\n",
       "      <td>19</td>\n",
       "      <td>22</td>\n",
       "      <td>22</td>\n",
       "      <td>23</td>\n",
       "      <td>41</td>\n",
       "      <td>13</td>\n",
       "      <td>5</td>\n",
       "      <td>22</td>\n",
       "      <td>24</td>\n",
       "      <td>10</td>\n",
       "      <td>15</td>\n",
       "      <td>5</td>\n",
       "      <td>0</td>\n",
       "      <td>0</td>\n",
       "      <td>0</td>\n",
       "    </tr>\n",
       "    <tr>\n",
       "      <th>4</th>\n",
       "      <td>9</td>\n",
       "      <td>21</td>\n",
       "      <td>28</td>\n",
       "      <td>20</td>\n",
       "      <td>9</td>\n",
       "      <td>8</td>\n",
       "      <td>19</td>\n",
       "      <td>27</td>\n",
       "      <td>19</td>\n",
       "      <td>43</td>\n",
       "      <td>41</td>\n",
       "      <td>8</td>\n",
       "      <td>32</td>\n",
       "      <td>11</td>\n",
       "      <td>10</td>\n",
       "      <td>17</td>\n",
       "      <td>10</td>\n",
       "      <td>6</td>\n",
       "      <td>11</td>\n",
       "      <td>5</td>\n",
       "      <td>0</td>\n",
       "      <td>0</td>\n",
       "      <td>0</td>\n",
       "    </tr>\n",
       "    <tr>\n",
       "      <th>...</th>\n",
       "      <td>...</td>\n",
       "      <td>...</td>\n",
       "      <td>...</td>\n",
       "      <td>...</td>\n",
       "      <td>...</td>\n",
       "      <td>...</td>\n",
       "      <td>...</td>\n",
       "      <td>...</td>\n",
       "      <td>...</td>\n",
       "      <td>...</td>\n",
       "      <td>...</td>\n",
       "      <td>...</td>\n",
       "      <td>...</td>\n",
       "      <td>...</td>\n",
       "      <td>...</td>\n",
       "      <td>...</td>\n",
       "      <td>...</td>\n",
       "      <td>...</td>\n",
       "      <td>...</td>\n",
       "      <td>...</td>\n",
       "      <td>...</td>\n",
       "      <td>...</td>\n",
       "      <td>...</td>\n",
       "    </tr>\n",
       "    <tr>\n",
       "      <th>14156</th>\n",
       "      <td>4</td>\n",
       "      <td>4</td>\n",
       "      <td>7</td>\n",
       "      <td>2</td>\n",
       "      <td>2</td>\n",
       "      <td>3</td>\n",
       "      <td>12</td>\n",
       "      <td>5</td>\n",
       "      <td>2</td>\n",
       "      <td>5</td>\n",
       "      <td>9</td>\n",
       "      <td>3</td>\n",
       "      <td>9</td>\n",
       "      <td>3</td>\n",
       "      <td>1</td>\n",
       "      <td>11</td>\n",
       "      <td>5</td>\n",
       "      <td>0</td>\n",
       "      <td>3</td>\n",
       "      <td>2</td>\n",
       "      <td>0</td>\n",
       "      <td>0</td>\n",
       "      <td>0</td>\n",
       "    </tr>\n",
       "    <tr>\n",
       "      <th>14157</th>\n",
       "      <td>10</td>\n",
       "      <td>23</td>\n",
       "      <td>42</td>\n",
       "      <td>30</td>\n",
       "      <td>7</td>\n",
       "      <td>13</td>\n",
       "      <td>21</td>\n",
       "      <td>26</td>\n",
       "      <td>6</td>\n",
       "      <td>36</td>\n",
       "      <td>41</td>\n",
       "      <td>12</td>\n",
       "      <td>26</td>\n",
       "      <td>5</td>\n",
       "      <td>7</td>\n",
       "      <td>12</td>\n",
       "      <td>19</td>\n",
       "      <td>10</td>\n",
       "      <td>34</td>\n",
       "      <td>6</td>\n",
       "      <td>0</td>\n",
       "      <td>0</td>\n",
       "      <td>0</td>\n",
       "    </tr>\n",
       "    <tr>\n",
       "      <th>14158</th>\n",
       "      <td>4</td>\n",
       "      <td>21</td>\n",
       "      <td>26</td>\n",
       "      <td>19</td>\n",
       "      <td>12</td>\n",
       "      <td>11</td>\n",
       "      <td>23</td>\n",
       "      <td>14</td>\n",
       "      <td>8</td>\n",
       "      <td>26</td>\n",
       "      <td>10</td>\n",
       "      <td>12</td>\n",
       "      <td>15</td>\n",
       "      <td>19</td>\n",
       "      <td>16</td>\n",
       "      <td>21</td>\n",
       "      <td>14</td>\n",
       "      <td>11</td>\n",
       "      <td>16</td>\n",
       "      <td>4</td>\n",
       "      <td>0</td>\n",
       "      <td>0</td>\n",
       "      <td>0</td>\n",
       "    </tr>\n",
       "    <tr>\n",
       "      <th>14159</th>\n",
       "      <td>16</td>\n",
       "      <td>32</td>\n",
       "      <td>45</td>\n",
       "      <td>38</td>\n",
       "      <td>16</td>\n",
       "      <td>14</td>\n",
       "      <td>23</td>\n",
       "      <td>51</td>\n",
       "      <td>23</td>\n",
       "      <td>46</td>\n",
       "      <td>55</td>\n",
       "      <td>25</td>\n",
       "      <td>44</td>\n",
       "      <td>12</td>\n",
       "      <td>8</td>\n",
       "      <td>15</td>\n",
       "      <td>22</td>\n",
       "      <td>6</td>\n",
       "      <td>25</td>\n",
       "      <td>8</td>\n",
       "      <td>0</td>\n",
       "      <td>0</td>\n",
       "      <td>0</td>\n",
       "    </tr>\n",
       "    <tr>\n",
       "      <th>14160</th>\n",
       "      <td>14</td>\n",
       "      <td>27</td>\n",
       "      <td>28</td>\n",
       "      <td>26</td>\n",
       "      <td>16</td>\n",
       "      <td>21</td>\n",
       "      <td>29</td>\n",
       "      <td>29</td>\n",
       "      <td>15</td>\n",
       "      <td>44</td>\n",
       "      <td>28</td>\n",
       "      <td>11</td>\n",
       "      <td>44</td>\n",
       "      <td>16</td>\n",
       "      <td>11</td>\n",
       "      <td>34</td>\n",
       "      <td>23</td>\n",
       "      <td>7</td>\n",
       "      <td>16</td>\n",
       "      <td>3</td>\n",
       "      <td>0</td>\n",
       "      <td>0</td>\n",
       "      <td>0</td>\n",
       "    </tr>\n",
       "  </tbody>\n",
       "</table>\n",
       "<p>14161 rows × 23 columns</p>\n",
       "</div>"
      ],
      "text/plain": [
       "        M   D    S   R   Q   Y   E   V   I   G   A   F   L   N   H   K   T  \\\n",
       "0      22  53  123  48  35  16  66  56  55  35  71  23  68  42  23  75  39   \n",
       "1       3   2   11   6   2   3  15   7   9  11  19   4   7   3   2  30   7   \n",
       "2       2   2    7   5   3   1   3   7   3   5   3   5  12   6   3   5   3   \n",
       "3      10   9   27   6  13  15  12  31  19  22  22  23  41  13   5  22  24   \n",
       "4       9  21   28  20   9   8  19  27  19  43  41   8  32  11  10  17  10   \n",
       "...    ..  ..  ...  ..  ..  ..  ..  ..  ..  ..  ..  ..  ..  ..  ..  ..  ..   \n",
       "14156   4   4    7   2   2   3  12   5   2   5   9   3   9   3   1  11   5   \n",
       "14157  10  23   42  30   7  13  21  26   6  36  41  12  26   5   7  12  19   \n",
       "14158   4  21   26  19  12  11  23  14   8  26  10  12  15  19  16  21  14   \n",
       "14159  16  32   45  38  16  14  23  51  23  46  55  25  44  12   8  15  22   \n",
       "14160  14  27   28  26  16  21  29  29  15  44  28  11  44  16  11  34  23   \n",
       "\n",
       "        C   P  W  X  Z  B  \n",
       "0      21  68  4  0  0  0  \n",
       "1       0   9  0  0  0  0  \n",
       "2       1   4  1  0  0  0  \n",
       "3      10  15  5  0  0  0  \n",
       "4       6  11  5  0  0  0  \n",
       "...    ..  .. .. .. .. ..  \n",
       "14156   0   3  2  0  0  0  \n",
       "14157  10  34  6  0  0  0  \n",
       "14158  11  16  4  0  0  0  \n",
       "14159   6  25  8  0  0  0  \n",
       "14160   7  16  3  0  0  0  \n",
       "\n",
       "[14161 rows x 23 columns]"
      ]
     },
     "execution_count": 11,
     "metadata": {},
     "output_type": "execute_result"
    }
   ],
   "source": [
    "aminos_variance = pd.DataFrame([row[1] for row in aminos]).fillna(0).astype(int)\n",
    "aminos_variance"
   ]
  },
  {
   "cell_type": "code",
   "execution_count": 12,
   "id": "f5803cc4-0841-4be1-80d1-84565c92ade8",
   "metadata": {
    "tags": []
   },
   "outputs": [
    {
     "data": {
      "image/png": "[encoded data removed]",
      "text/plain": [
       "<Figure size 1400x900 with 1 Axes>"
      ]
     },
     "metadata": {},
     "output_type": "display_data"
    }
   ],
   "source": [
    "plt.figure(figsize=(14, 9))\n",
    "\n",
    "sns.boxplot(aminos_variance)\n",
    "\n",
    "plt.title('Amino variance', fontsize=17)\n",
    "plt.savefig('Figures/Amino_variance.png')\n",
    "plt.show()"
   ]
  },
  {
   "cell_type": "markdown",
   "id": "7212bfa0-7eda-4e82-befa-6ec6c8705b55",
   "metadata": {},
   "source": [
    "## ChatGPT embeddings"
   ]
  },
  {
   "cell_type": "code",
   "execution_count": null,
   "id": "3e94fdd2-ea5d-4311-b536-9df02af42366",
   "metadata": {},
   "outputs": [],
   "source": []
  },
  {
   "cell_type": "code",
   "execution_count": null,
   "id": "cd53f69a-91a0-4394-8ab1-fa545cedfa85",
   "metadata": {},
   "outputs": [],
   "source": []
  },
  {
   "cell_type": "code",
   "execution_count": null,
   "id": "6585322c-166c-45fe-94ef-d2c4f9d0ddd5",
   "metadata": {},
   "outputs": [],
   "source": []
  },
  {
   "cell_type": "code",
   "execution_count": null,
   "id": "dd875e47-9814-4f6a-96ec-2e1af030e19d",
   "metadata": {},
   "outputs": [],
   "source": []
  },
  {
   "cell_type": "code",
   "execution_count": null,
   "id": "7eee8bac-4a5b-4754-9123-d1439523c963",
   "metadata": {},
   "outputs": [],
   "source": []
  },
  {
   "cell_type": "code",
   "execution_count": null,
   "id": "737db1b3-d27d-4619-930f-f1ed47a6f8cc",
   "metadata": {},
   "outputs": [],
   "source": []
  },
  {
   "cell_type": "code",
   "execution_count": null,
   "id": "33a4bb8b-df7e-4298-b857-96ebedc93dbb",
   "metadata": {},
   "outputs": [],
   "source": []
  }
 ],
 "metadata": {
  "kernelspec": {
   "display_name": "Python 3 (ipykernel)",
   "language": "python",
   "name": "python3"
  },
  "language_info": {
   "codemirror_mode": {
    "name": "ipython",
    "version": 3
   },
   "file_extension": ".py",
   "mimetype": "text/x-python",
   "name": "python",
   "nbconvert_exporter": "python",
   "pygments_lexer": "ipython3",
   "version": "3.11.5"
  }
 },
 "nbformat": 4,
 "nbformat_minor": 5
}
